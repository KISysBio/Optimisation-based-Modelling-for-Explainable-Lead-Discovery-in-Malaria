{
 "cells": [
  {
   "cell_type": "code",
   "execution_count": null,
   "id": "d7444cd2",
   "metadata": {
    "ExecuteTime": {
     "end_time": "2021-07-14T13:15:50.963598Z",
     "start_time": "2021-07-14T13:15:49.228089Z"
    }
   },
   "outputs": [],
   "source": [
    "import math\n",
    "import scipy\n",
    "import numpy as np\n",
    "import pandas as pd\n",
    "\n",
    "# Import relevant modSAR classes \n",
    "import modSAR\n",
    "from modSAR.network_algorithms import ModSAR\n",
    "from modSAR.dataset import QSARDataset, QSARDatasetIO\n",
    "\n",
    "# plotnine is the python version of ggplot2\n",
    "from plotnine import *\n",
    "\n",
    "import warnings\n",
    "warnings.filterwarnings(\"ignore\")\n",
    "\n",
    "from rdkit import Chem\n",
    "from rdkit.Chem import AllChem, Draw\n",
    "\n",
    "from rdkit import RDLogger\n",
    "\n",
    "import rdkit.Geometry\n",
    "from rdkit.Chem import rdFMCS, PandasTools\n",
    "from rdkit.Chem.Draw import IPythonConsole \n",
    "from rdkit.Chem import PandasTools\n",
    "\n",
    "from sklearn.metrics import mean_absolute_error, r2_score, mean_squared_error\n",
    "from sklearn.model_selection import RandomizedSearchCV\n",
    "\n",
    "# 2.5uM in Log units\n",
    "CUTOFF_ACTIVITY = - np.log10(2.5e-06)\n",
    "\n",
    "s4_template = Chem.MolFromSmarts('[#6]1:[#7]:[#6]:[#6]:[#7]2:[#6]:1:[#7]:[#7]:[#6]:2')\n",
    "AllChem.Compute2DCoords(s4_template)\n",
    "\n",
    "RDLogger.DisableLog('rdApp.info')\n",
    "\n",
    "from rdkit.Chem import PandasTools\n",
    "\n",
    "%matplotlib inline"
   ]
  },
  {
   "cell_type": "markdown",
   "id": "91da1711",
   "metadata": {},
   "source": [
    "# Load Data"
   ]
  },
  {
   "cell_type": "code",
   "execution_count": null,
   "id": "0cb72463",
   "metadata": {
    "ExecuteTime": {
     "end_time": "2021-07-14T13:16:12.864589Z",
     "start_time": "2021-07-14T13:16:01.399271Z"
    }
   },
   "outputs": [],
   "source": [
    "dataset_morgan2 = \\\n",
    "    QSARDatasetIO.load(dataset_name='OSM4',\n",
    "                   activity_sheetname='activity',\n",
    "                   smiles_column='Canonical_Smiles',\n",
    "                   id_column='OSM_ID',\n",
    "                   filepath='data/osm_qsar_dataset_morgan2.xlsx',\n",
    "                   calculate_similarity=False)\n",
    "    \n",
    "\n",
    "    \n",
    "dataset_morgan2"
   ]
  },
  {
   "cell_type": "code",
   "execution_count": null,
   "id": "4593bd70",
   "metadata": {
    "ExecuteTime": {
     "end_time": "2021-07-14T13:16:24.331450Z",
     "start_time": "2021-07-14T13:16:12.867285Z"
    }
   },
   "outputs": [],
   "source": [
    "dataset_morgan4 = \\\n",
    "    QSARDatasetIO.load(dataset_name='OSM4',\n",
    "                   activity_sheetname='activity',\n",
    "                   smiles_column='Canonical_Smiles',\n",
    "                   id_column='OSM_ID',\n",
    "                   filepath='../data/osm_qsar_dataset_morgan4.xlsx',\n",
    "                   calculate_similarity=False)\n",
    "    \n",
    "dataset_morgan4"
   ]
  },
  {
   "cell_type": "markdown",
   "id": "bcd95ae5",
   "metadata": {},
   "source": [
    "# Load model"
   ]
  },
  {
   "cell_type": "code",
   "execution_count": null,
   "id": "08756c2f",
   "metadata": {
    "ExecuteTime": {
     "end_time": "2021-07-14T13:20:59.964812Z",
     "start_time": "2021-07-14T13:20:57.692687Z"
    }
   },
   "outputs": [],
   "source": [
    "import joblib\n",
    "model_morgan2 = joblib.load(\"model_modsar_morgan2.joblib\")"
   ]
  },
  {
   "cell_type": "code",
   "execution_count": null,
   "id": "20da5fd2",
   "metadata": {
    "ExecuteTime": {
     "end_time": "2021-07-14T13:20:59.979155Z",
     "start_time": "2021-07-14T13:20:59.967075Z"
    }
   },
   "outputs": [],
   "source": [
    "results_df = pd.DataFrame(model_morgan2.cv_results_)\n",
    "results_df[\"param_lam\"] = results_df[\"param_lam\"].astype(float)\n",
    "\n",
    "selected_cols = [col for col in results_df.columns if 'split' not in col and 'std' not in col]"
   ]
  },
  {
   "cell_type": "markdown",
   "id": "7ad21434",
   "metadata": {},
   "source": [
    "# Performance"
   ]
  },
  {
   "cell_type": "code",
   "execution_count": null,
   "id": "70feaeb1",
   "metadata": {
    "ExecuteTime": {
     "end_time": "2021-07-14T13:16:53.445290Z",
     "start_time": "2021-07-14T13:16:52.647275Z"
    }
   },
   "outputs": [],
   "source": [
    "from plotnine import *\n",
    "\n",
    "g = (ggplot(results_df, aes(x='param_lam', y=\"mean_fit_time\")) + \n",
    "     geom_col(color=\"blue\", fill=\"blue\", alpha=0.6) +\n",
    "     scale_x_continuous(name=\"Paramater $\\lambda$\",\n",
    "                        breaks=[x/100 for x in range(21)]) +\n",
    "     scale_y_continuous(name=\"Mean CV fit time (seconds)\") +\n",
    "     theme_bw() + \n",
    "     theme(figure_size = (7, 3), axis_title=element_text(size=10)) + \n",
    "     ggtitle(\"The higher the $\\lambda$ the faster the fit time\"))\n",
    "\n",
    "g"
   ]
  },
  {
   "cell_type": "code",
   "execution_count": null,
   "id": "ebda4564",
   "metadata": {
    "ExecuteTime": {
     "end_time": "2021-07-14T13:17:10.086619Z",
     "start_time": "2021-07-14T13:17:09.313863Z"
    }
   },
   "outputs": [],
   "source": [
    "g = (ggplot(results_df, aes(x='param_lam')) + \n",
    "     geom_rect(xmin=0.025, xmax=0.065, ymin=0.5, ymax=0.75, fill='#212121', alpha=0.015) +\n",
    "     geom_point(aes(y=\"-mean_train_neg_mean_absolute_error\"), \n",
    "                size=4, color=\"blue\", fill=\"blue\", alpha=1) +\n",
    "     geom_line(mapping=aes(y=\"-mean_train_neg_mean_absolute_error\"), \n",
    "               size=1, color=\"blue\", alpha=0.5) +\n",
    "     geom_point(aes(y=\"-mean_test_neg_mean_absolute_error\"), \n",
    "                size=4, color=\"green\", fill=\"green\", alpha=1) +\n",
    "     geom_line(mapping=aes(y=\"-mean_test_neg_mean_absolute_error\"), \n",
    "               size=1, color=\"green\", alpha=0.5) +\n",
    "     scale_x_continuous(name=\"Paramater $\\lambda$\", breaks=[x/100 for x in range(21)]) +\n",
    "     scale_y_continuous(name=\"Mean absolute error\") +\n",
    "     annotate(\"text\", label=\"Testing\", color=\"green\", \n",
    "              alpha=0.75, x=0.019, y=0.88, size=10, angle=1, fontweight=\"normal\") +\n",
    "     annotate(\"text\", label=\"Training\", color=\"blue\", \n",
    "              alpha=0.75, x=0.012, y=0.75, size=10, angle=0, fontweight=\"normal\") +\n",
    "      annotate(\"text\", label=\"Zone of best results\", color=\"#212121\", \n",
    "          alpha=0.75, x=0.045, y=0.771, size=10, fontweight=\"normal\") +\n",
    "     theme_bw() + \n",
    "     theme(figure_size = (8, 3), axis_title=element_text(size=10)))\n",
    "\n",
    "g"
   ]
  },
  {
   "cell_type": "code",
   "execution_count": null,
   "id": "70c7871c",
   "metadata": {},
   "outputs": [],
   "source": [
    "g.save(\"/mnt/data/results/mse.png\")"
   ]
  },
  {
   "cell_type": "code",
   "execution_count": null,
   "id": "895304fa",
   "metadata": {
    "ExecuteTime": {
     "end_time": "2021-07-14T13:17:15.430361Z",
     "start_time": "2021-07-14T13:17:14.631308Z"
    }
   },
   "outputs": [],
   "source": [
    "g = (ggplot(results_df, aes(x='param_lam')) + \n",
    "     geom_rect(xmin=0.025, xmax=0.065, ymin=0.8, ymax=0.92, fill='#212121', alpha=0.015) +\n",
    "     geom_point(aes(y=\"-mean_train_neg_root_mean_squared_error\"), \n",
    "                size=4, color=\"blue\", fill=\"blue\", alpha=1) +\n",
    "     geom_line(mapping=aes(y=\"-mean_train_neg_root_mean_squared_error\"), \n",
    "               size=1, color=\"blue\", alpha=0.5) +\n",
    "     geom_point(aes(y=\"-mean_test_neg_root_mean_squared_error\"), \n",
    "                size=4, color=\"green\", fill=\"green\", alpha=1) +\n",
    "     geom_line(mapping=aes(y=\"-mean_test_neg_root_mean_squared_error\"), \n",
    "               size=1, color=\"green\", alpha=0.5) +\n",
    "     scale_x_continuous(name=\"Paramater $\\lambda$\", breaks=[x/100 for x in range(21)]) +\n",
    "     scale_y_continuous(name=\"RMSE\") +\n",
    "     annotate(\"text\", label=\"Testing\", color=\"green\", \n",
    "              alpha=0.75, x=0.019, y=0.88, size=10, angle=1, fontweight=\"normal\") +\n",
    "     annotate(\"text\", label=\"Training\", color=\"blue\", \n",
    "              alpha=0.75, x=0.012, y=0.75, size=10, angle=0, fontweight=\"normal\") +\n",
    "      annotate(\"text\", label=\"Zone of best results\", color=\"#212121\", \n",
    "          alpha=0.75, x=0.045, y=0.771, size=10, fontweight=\"normal\") +\n",
    "     theme_bw() + \n",
    "     theme(figure_size = (8, 3), axis_title=element_text(size=10)))\n",
    "\n",
    "g"
   ]
  },
  {
   "cell_type": "code",
   "execution_count": null,
   "id": "6d0e0df4",
   "metadata": {},
   "outputs": [],
   "source": [
    "g.save(\"/mnt/data/results/rmse.png\")"
   ]
  },
  {
   "cell_type": "code",
   "execution_count": null,
   "id": "f2f9b720",
   "metadata": {
    "ExecuteTime": {
     "end_time": "2021-07-14T13:17:40.594125Z",
     "start_time": "2021-07-14T13:17:39.687879Z"
    }
   },
   "outputs": [],
   "source": [
    "g = (ggplot(results_df, aes(x='param_lam')) + \n",
    "     geom_rect(xmin=0.025, xmax=0.065, ymin=-0.45, ymax=0.1, fill='#212121', alpha=0.015) +\n",
    "     geom_point(aes(y=\"mean_train_r2\"), \n",
    "                size=4, color=\"blue\", fill=\"blue\", alpha=1) +\n",
    "     geom_line(mapping=aes(y=\"mean_train_r2\"), \n",
    "               size=1, color=\"blue\", alpha=0.5) +\n",
    "     geom_point(aes(y=\"mean_test_r2\"), \n",
    "                size=4, color=\"green\", fill=\"green\", alpha=1) +\n",
    "     geom_line(mapping=aes(y=\"mean_test_r2\"), \n",
    "               size=1, color=\"green\", alpha=0.5) +\n",
    "     scale_x_continuous(name=\"Paramater $\\lambda$\", breaks=[x/100 for x in range(21)]) +\n",
    "     scale_y_continuous(name=\"R Square\") +\n",
    "     annotate(\"text\", label=\"Testing\", color=\"green\", \n",
    "              alpha=0.75, x=0.019, y=0.88, size=10, angle=1, fontweight=\"normal\") +\n",
    "     annotate(\"text\", label=\"Training\", color=\"blue\", \n",
    "              alpha=0.75, x=0.012, y=0.75, size=10, angle=0, fontweight=\"normal\") +\n",
    "      annotate(\"text\", label=\"Zone of best results\", color=\"#212121\", \n",
    "          alpha=0.75, x=0.045, y=0.4, size=10, fontweight=\"normal\") +\n",
    "     theme_bw() + \n",
    "     theme(figure_size = (8, 3), axis_title=element_text(size=10)))\n",
    "\n",
    "g"
   ]
  },
  {
   "cell_type": "code",
   "execution_count": null,
   "id": "613ba818",
   "metadata": {},
   "outputs": [],
   "source": [
    "g.save(\"/mnt/data/results/rmse.png\")"
   ]
  },
  {
   "cell_type": "markdown",
   "id": "e9e27ad5",
   "metadata": {},
   "source": [
    "# Graph"
   ]
  },
  {
   "cell_type": "code",
   "execution_count": null,
   "id": "582b9bdb",
   "metadata": {
    "ExecuteTime": {
     "end_time": "2021-07-14T13:21:10.286594Z",
     "start_time": "2021-07-14T13:21:10.281964Z"
    }
   },
   "outputs": [],
   "source": [
    "modsar_alg = model_morgan2.best_estimator_\n",
    "\n",
    "graph = modsar_alg.instance_graph\n",
    "\n",
    "graph.vs['Series'] = dataset_morgan2.metadata['Series'].values"
   ]
  },
  {
   "cell_type": "code",
   "execution_count": null,
   "id": "8f0975d1",
   "metadata": {
    "ExecuteTime": {
     "end_time": "2021-07-14T13:21:10.719933Z",
     "start_time": "2021-07-14T13:21:10.706717Z"
    }
   },
   "outputs": [],
   "source": [
    "module_sizes = pd.Series(graph.vs['community']).value_counts()\n",
    "module_sizes"
   ]
  },
  {
   "cell_type": "code",
   "execution_count": null,
   "id": "19ca15f0",
   "metadata": {
    "ExecuteTime": {
     "end_time": "2021-07-14T13:21:14.404039Z",
     "start_time": "2021-07-14T13:21:13.911544Z"
    }
   },
   "outputs": [],
   "source": [
    "import igraph \n",
    "\n",
    "# layout = graph.layout(\"kamada_kawai\", maxiter=800, kkconst=5000)\n",
    "#layout = graph.layout(\"graphopt\")\n",
    "layout = graph.layout('fruchterman_reingold')"
   ]
  },
  {
   "cell_type": "code",
   "execution_count": null,
   "id": "1da5fffd",
   "metadata": {
    "ExecuteTime": {
     "end_time": "2021-07-14T13:21:15.985309Z",
     "start_time": "2021-07-14T13:21:15.976419Z"
    }
   },
   "outputs": [],
   "source": [
    "largest_modules = pd.Series(graph.vs[\"community\"]).value_counts()\n",
    "largest_modules"
   ]
  },
  {
   "cell_type": "code",
   "execution_count": null,
   "id": "988bb077",
   "metadata": {},
   "outputs": [],
   "source": [
    "import igraph\n",
    "igraph.save(graph, \"../data/results/model_modsar_morgan2_graph.gml\")"
   ]
  },
  {
   "cell_type": "code",
   "execution_count": null,
   "id": "96337c33",
   "metadata": {
    "ExecuteTime": {
     "end_time": "2021-07-14T13:21:19.434598Z",
     "start_time": "2021-07-14T13:21:19.425962Z"
    }
   },
   "outputs": [],
   "source": [
    "from IPython.display import display, HTML\n",
    "\n",
    "color_dict = {\"m01\": \"#1B9E77\",\n",
    "              \"m02\": \"#D95F02\",\n",
    "              \"m03\": \"#7570B3\",\n",
    "              \"m04\": \"#E7298A\",\n",
    "              \"m05\": \"#66A61E\",\n",
    "              \"m06\": \"#A6761D\",\n",
    "              \"m07\": \"#E6AB02\",\n",
    "              \"m08\": \"#FFFF00\"}\n",
    "\n",
    "\n",
    "html_base = (\"<span style=\\\"display: inline; background-color: %s;\" \n",
    "            \"padding: 10px; border: 1px solid gray;\\\">%s</span>\")\n",
    "final_html = \"</p>Modules:</p>\"\n",
    "for module, color in color_dict.items():\n",
    "    final_html += html_base % (color, module)\n",
    "    \n",
    "display(HTML(final_html, metadata=dict(isolated=True)))"
   ]
  },
  {
   "cell_type": "code",
   "execution_count": null,
   "id": "ed44ed3c",
   "metadata": {
    "ExecuteTime": {
     "end_time": "2021-07-14T13:21:22.945226Z",
     "start_time": "2021-07-14T13:21:21.529759Z"
    }
   },
   "outputs": [],
   "source": [
    "igraph.plot(graph, \"model_modsar_morgan2_graph.png\", \n",
    "            layout=layout, vertex_size=6, vertex_label=None, \n",
    "            vertex_color=[color_dict[comm] for comm in graph.vs[\"community\"]],\n",
    "            edge_color=\"#9c9a9a\", edge_curved=True, edge_width=0.2,\n",
    "            background=None,\n",
    "            vertex_frame_width=1.3,\n",
    "            bbox=[500, 300], margin=20)"
   ]
  },
  {
   "cell_type": "markdown",
   "id": "77edd8aa",
   "metadata": {},
   "source": [
    "# Network"
   ]
  },
  {
   "cell_type": "code",
   "execution_count": null,
   "id": "9298c5c3",
   "metadata": {
    "ExecuteTime": {
     "end_time": "2021-07-14T13:21:59.555878Z",
     "start_time": "2021-07-14T13:21:31.200501Z"
    }
   },
   "outputs": [],
   "source": [
    "import networkx as nx\n",
    "\n",
    "from nx_altair.core import to_pandas_nodes\n",
    "\n",
    "G = nx.read_gml(\"model_modsar_morgan2_graph.gml\")\n",
    "pos = nx.kamada_kawai_layout(G, scale=0.6)"
   ]
  },
  {
   "cell_type": "code",
   "execution_count": null,
   "id": "4c5b35c9",
   "metadata": {
    "ExecuteTime": {
     "end_time": "2021-07-14T13:21:59.873068Z",
     "start_time": "2021-07-14T13:21:59.558473Z"
    }
   },
   "outputs": [],
   "source": [
    "molecules_df = to_pandas_nodes(G, pos)\n",
    "\n",
    "molecules_df = pd.merge(molecules_df, \n",
    "                        dataset_morgan2.metadata[[\"Canonical_Smiles\"]], \n",
    "                        left_index=True, \n",
    "                        right_index=True)\n",
    "\n",
    "molecules_df.head()"
   ]
  },
  {
   "cell_type": "code",
   "execution_count": null,
   "id": "b2d2e7c5",
   "metadata": {
    "ExecuteTime": {
     "end_time": "2021-07-14T13:21:59.923425Z",
     "start_time": "2021-07-14T13:21:59.876087Z"
    }
   },
   "outputs": [],
   "source": [
    "osm_series = molecules_df.Series\n",
    "osm_series = osm_series.apply(lambda x: '4' if x == 'not4' else ('1' if x == 'TB' else x))\n",
    "osm_series.name = \"OSM Data\"\n",
    "osm_series = osm_series.apply(lambda x: 'Series '+x)\n",
    "\n",
    "modules = molecules_df.community\n",
    "modules.name = \"Modules\"\n",
    "\n",
    "pd.crosstab(modules, osm_series)"
   ]
  },
  {
   "cell_type": "markdown",
   "id": "f452bdfb",
   "metadata": {},
   "source": [
    "# Clusters"
   ]
  },
  {
   "cell_type": "markdown",
   "id": "1c2f42bd",
   "metadata": {},
   "source": [
    "## t-SNE"
   ]
  },
  {
   "cell_type": "code",
   "execution_count": null,
   "id": "2ad9f8a8",
   "metadata": {
    "ExecuteTime": {
     "end_time": "2021-07-14T13:22:02.322386Z",
     "start_time": "2021-07-14T13:21:59.929035Z"
    }
   },
   "outputs": [],
   "source": [
    "from sklearn.manifold import TSNE\n",
    "x_tsne = TSNE().fit_transform(dataset_morgan2.X)\n",
    "x_tsne_df = pd.DataFrame(x_tsne, columns=['x1','x2'], index = dataset_morgan2.X.index)\n",
    "x_tsne_df['community'] = molecules_df['community']\n",
    "x_tsne_df['Series'] = molecules_df['Series']"
   ]
  },
  {
   "cell_type": "code",
   "execution_count": null,
   "id": "e4ecde2f",
   "metadata": {
    "ExecuteTime": {
     "end_time": "2021-07-14T13:22:02.781698Z",
     "start_time": "2021-07-14T13:22:02.324631Z"
    }
   },
   "outputs": [],
   "source": [
    "import seaborn as sns\n",
    "import matplotlib.pyplot as plt\n",
    "tsne_communnity = sns.scatterplot(data =  x_tsne_df, x = 'x1', y = 'x2', hue = 'community')\n",
    "plt.legend(bbox_to_anchor=(1.05,1),loc=2,borderaxespad=0.)\n",
    "# tsne_communnity.figure.savefig(\"/mnt/data/results/tsne_community.png\")"
   ]
  },
  {
   "cell_type": "code",
   "execution_count": null,
   "id": "376db4df",
   "metadata": {
    "ExecuteTime": {
     "end_time": "2021-07-14T13:22:03.116933Z",
     "start_time": "2021-07-14T13:22:02.785292Z"
    }
   },
   "outputs": [],
   "source": [
    "import seaborn as sns\n",
    "import matplotlib.pyplot as plt\n",
    "tsne_series = sns.scatterplot(data =  x_tsne_df, x = 'x1', y = 'x2', hue = 'Series')\n",
    "plt.legend(bbox_to_anchor=(1.05,1),loc=2,borderaxespad=0.)\n",
    "# tsne_series.figure.savefig(\"/mnt/data/results/tsne_series.png\")"
   ]
  },
  {
   "cell_type": "markdown",
   "id": "358d8f52",
   "metadata": {},
   "source": [
    "## UMAP"
   ]
  },
  {
   "cell_type": "code",
   "execution_count": null,
   "id": "a96dcb2b",
   "metadata": {},
   "outputs": [],
   "source": [
    "import umap\n",
    "reducer = umap.UMAP()\n",
    "x_umap = reducer.fit_transform(dataset_morgan2.X)"
   ]
  },
  {
   "cell_type": "code",
   "execution_count": null,
   "id": "b2fcb135",
   "metadata": {},
   "outputs": [],
   "source": [
    "x_umap_df = pd.DataFrame(x_umap, columns=['x1', 'x2'], index = dataset_morgan2.X.index)\n",
    "x_umap_df['community'] = molecules_df['community']\n",
    "x_umap_df['Series'] = molecules_df['Series']"
   ]
  },
  {
   "cell_type": "code",
   "execution_count": null,
   "id": "34b7138f",
   "metadata": {},
   "outputs": [],
   "source": [
    "umap_community = sns.scatterplot(data =  x_umap_df, x = 'x1', y = 'x2', hue = 'community')\n",
    "plt.legend(bbox_to_anchor=(1.05,1),loc=2,borderaxespad=0.)\n",
    "umap_community.figure.savefig(\"/mnt/data/results/umap_community.png\")"
   ]
  },
  {
   "cell_type": "code",
   "execution_count": null,
   "id": "599f25f5",
   "metadata": {},
   "outputs": [],
   "source": [
    "umap_series = sns.scatterplot(data =  x_umap_df, x = 'x1', y = 'x2', hue = 'Series')\n",
    "plt.legend(bbox_to_anchor=(1.05,1),loc=2,borderaxespad=0.)\n",
    "umap_series.figure.savefig(\"/mnt/data/results/umap_series.png\")"
   ]
  },
  {
   "cell_type": "markdown",
   "id": "88bd5f7e",
   "metadata": {},
   "source": [
    "## network clustering"
   ]
  },
  {
   "cell_type": "code",
   "execution_count": null,
   "id": "d4ed57ec",
   "metadata": {
    "ExecuteTime": {
     "end_time": "2021-07-14T13:23:50.745067Z",
     "start_time": "2021-07-14T13:23:50.425143Z"
    }
   },
   "outputs": [],
   "source": [
    "modsar_community = sns.scatterplot(data =  molecules_df, x = 'x', y = 'y', hue = 'community')\n",
    "plt.legend(bbox_to_anchor=(1.05,1),loc=2,borderaxespad=0.)\n",
    "# modsar_community.figure.savefig(\"/mnt/data/results/modsar_community.png\")"
   ]
  },
  {
   "cell_type": "code",
   "execution_count": null,
   "id": "ddc87a14",
   "metadata": {
    "ExecuteTime": {
     "end_time": "2021-07-14T13:23:59.722785Z",
     "start_time": "2021-07-14T13:23:59.416868Z"
    }
   },
   "outputs": [],
   "source": [
    "modsar_series = sns.scatterplot(data =  molecules_df, x = 'x', y = 'y', hue = 'Series')\n",
    "plt.legend(bbox_to_anchor=(1.05,1),loc=2,borderaxespad=0.)\n",
    "# modsar_series.figure.savefig(\"/mnt/data/results/modsar_series.png\")"
   ]
  },
  {
   "cell_type": "markdown",
   "id": "2e8e6a8d",
   "metadata": {},
   "source": [
    "# Analysis of Modules"
   ]
  },
  {
   "cell_type": "code",
   "execution_count": null,
   "id": "33b2644f",
   "metadata": {
    "ExecuteTime": {
     "end_time": "2021-07-14T13:24:23.906963Z",
     "start_time": "2021-07-14T13:24:23.868027Z"
    }
   },
   "outputs": [],
   "source": [
    "from rdkit.Chem.Scaffolds import rdScaffoldNetwork\n",
    "from rdkit.Chem.Scaffolds import MurckoScaffold\n",
    "from rdkit.Chem.Draw.MolDrawing import DrawingOptions\n",
    "\n",
    "def get_scaffold_pattern(df, smiles_col='Canonical_Smiles'):\n",
    "    params = rdScaffoldNetwork.ScaffoldNetworkParams() \n",
    "    params.includeGenericScaffolds = False\n",
    "    params.includeGenericBondScaffolds = False\n",
    "    params.includeScaffoldsWithoutAttachments=False\n",
    "    \n",
    "    smiles_mols = [smiles_code for smiles_code in df[smiles_col]]\n",
    "    mols = [Chem.MolFromSmiles(smiles_code) for smiles_code in smiles_mols]\n",
    "    \n",
    "    net = rdScaffoldNetwork.CreateScaffoldNetwork(mols, params)\n",
    "    return net\n",
    "\n",
    "def get_mcs_pattern(df, smiles_col='Canonical_Smiles'):\n",
    "    mols = [Chem.MolFromSmiles(smiles_code) for smiles_code in df[smiles_col]]\n",
    "    res = rdFMCS.FindMCS(mols)\n",
    "    pattern = Chem.MolFromSmarts(res.smartsString)\n",
    "    return pattern\n",
    "\n",
    "def get_representative_scaffold(module_df, smiles_col='Canonical_Smiles'):\n",
    "    net = get_scaffold_pattern(module_df, smiles_col)\n",
    "\n",
    "    df = pd.DataFrame({'pattern': net.nodes, 'count': net.counts})\n",
    "    df['pctg'] = df[\"count\"].apply(lambda x: x/module_df.shape[0])\n",
    "    df = df[(df[\"pctg\"] < 1) & (df[\"pctg\"] > 0.5)].copy()\n",
    "    df['pctg'] = df['pctg'].apply(lambda x: \"%.2f %%\" % (100*x))\n",
    "\n",
    "    def generate_depiction(x):\n",
    "        m = Chem.MolFromSmiles(x)\n",
    "        if m.HasSubstructMatch(s4_template):\n",
    "            AllChem.GenerateDepictionMatching2DStructure(m, s4_template)\n",
    "        return m\n",
    "\n",
    "    df[\"scaffold\"] = df[\"pattern\"].apply(generate_depiction)\n",
    "    \n",
    "#     PandasTools.AddMoleculeColumnToFrame(df,'pattern','scaffold',includeFingerprints=True)\n",
    "    return df.sort_values('count', ascending=False)\n",
    "\n",
    "def plot_representative_of_module(df, selected_module, \n",
    "                                  smiles_col='Canonical_Smiles', align_pattern=None, \n",
    "                                  folder=\"/mnt/data/results/OSM_model_round2/\"):\n",
    "    \n",
    "    module_df = df[df['community'] == selected_module]\n",
    "    \n",
    "    module_subgraph = G.subgraph([node[0] for node in G.nodes(data=True) \n",
    "                                  if node[1]['community'] == selected_module])\n",
    "    degrees = pd.DataFrame(sorted(module_subgraph.degree(), key=lambda x: x[1], reverse=True), \n",
    "                           columns=[\"index\",\"node_degree\"])\n",
    "    degrees.set_index(\"index\", inplace=True)\n",
    "    \n",
    "    idx = 0\n",
    "    while idx < len(degrees):\n",
    "        try:\n",
    "            highest_degree_id = degrees.index[idx]\n",
    "            #highest_degree_id = module_df['degree'].astype(int).idxmax()\n",
    "            print(\"Representative molecule of module {} selected: {}\".format(selected_module, highest_degree_id))\n",
    "            highest_degree_mol = Chem.MolFromSmiles(module_df.loc[highest_degree_id]['Canonical_Smiles'])\n",
    "            print(\"Canonical Smiles: \", module_df.loc[highest_degree_id]['Canonical_Smiles'])\n",
    "\n",
    "            module_pattern = get_representative_scaffold(module_df, smiles_col='Canonical_Smiles')\n",
    "            module_pattern = Chem.MolFromSmarts(module_pattern[\"pattern\"].iloc[0])\n",
    "\n",
    "            if align_pattern is not None:\n",
    "                AllChem.Compute2DCoords(align_pattern)\n",
    "                AllChem.GenerateDepictionMatching2DStructure(highest_degree_mol, align_pattern)\n",
    "\n",
    "            matching = highest_degree_mol.GetSubstructMatch(module_pattern)\n",
    "            hit_bonds = []\n",
    "            for bond in module_pattern.GetBonds():\n",
    "                aid1 = matching[bond.GetBeginAtomIdx()]\n",
    "                aid2 = matching[bond.GetEndAtomIdx()]\n",
    "                hit_bonds.append(highest_degree_mol.GetBondBetweenAtoms(aid1,aid2).GetIdx())\n",
    "            break\n",
    "        except Exception as e:\n",
    "            print(e)\n",
    "            idx = idx + 1\n",
    "        \n",
    "        \n",
    "    drawing_opts = DrawingOptions()\n",
    "    drawing_opts.bgColor=None\n",
    "    drawing_opts.colorBonds = False\n",
    "    drawing_opts.includeAtomNumbers = True\n",
    "    \n",
    "    filename = '%s/%s_%s_pattern.png' % (folder, selected_module, highest_degree_id)\n",
    "    print(\"Saving %s\" % filename)\n",
    "    Chem.Draw.MolToFile(highest_degree_mol, filename, size=(400, 300),\n",
    "                        highlightAtoms=matching, highlightBonds=hit_bonds, \n",
    "                        kekulize=True,\n",
    "                        options=drawing_opts)\n",
    "    \n",
    "    return  Chem.Draw.MolToImage(highest_degree_mol,\n",
    "                     size=(400, 300), kekulize=True, \n",
    "                     highlightAtoms=matching, highlightBonds=hit_bonds,\n",
    "                     options=drawing_opts,)"
   ]
  },
  {
   "cell_type": "markdown",
   "id": "6300cfc5",
   "metadata": {},
   "source": [
    "## Module 1"
   ]
  },
  {
   "cell_type": "code",
   "execution_count": null,
   "id": "d5a4c245",
   "metadata": {
    "ExecuteTime": {
     "end_time": "2021-07-14T13:24:31.941408Z",
     "start_time": "2021-07-14T13:24:31.746430Z"
    }
   },
   "outputs": [],
   "source": [
    "module_pattern1 = get_representative_scaffold(molecules_df[molecules_df[\"community\"] == \"m01\"], \n",
    "                                             smiles_col='Canonical_Smiles')\n",
    "\n",
    "module_pattern1"
   ]
  },
  {
   "cell_type": "code",
   "execution_count": null,
   "id": "16a4ae57",
   "metadata": {
    "ExecuteTime": {
     "end_time": "2021-07-14T13:24:38.110927Z",
     "start_time": "2021-07-14T13:24:38.097126Z"
    }
   },
   "outputs": [],
   "source": [
    "module_pattern1['scaffold'].iloc[0]"
   ]
  },
  {
   "cell_type": "code",
   "execution_count": null,
   "id": "e229f5bc",
   "metadata": {
    "ExecuteTime": {
     "end_time": "2021-07-14T13:24:51.069529Z",
     "start_time": "2021-07-14T13:24:51.036288Z"
    }
   },
   "outputs": [],
   "source": [
    "from rdkit.Chem.Draw import MolToImageFile\n",
    "MolToImageFile(module_pattern1['scaffold'].iloc[0], \"/mnt/data/results/m01_pattern.png\")"
   ]
  },
  {
   "cell_type": "code",
   "execution_count": null,
   "id": "4399d691",
   "metadata": {
    "ExecuteTime": {
     "end_time": "2021-07-14T13:24:57.264109Z",
     "start_time": "2021-07-14T13:24:57.017178Z"
    }
   },
   "outputs": [],
   "source": [
    "plot_representative_of_module(molecules_df, selected_module='m01')"
   ]
  },
  {
   "cell_type": "code",
   "execution_count": null,
   "id": "2dab4d04",
   "metadata": {
    "ExecuteTime": {
     "end_time": "2021-07-14T13:25:02.834755Z",
     "start_time": "2021-07-14T13:25:02.676020Z"
    }
   },
   "outputs": [],
   "source": [
    "m1_pattern = get_representative_scaffold(molecules_df[molecules_df['community'] == \"m01\"])\n",
    "Chem.MolFromSmarts(m1_pattern[\"pattern\"].values[0])"
   ]
  },
  {
   "cell_type": "code",
   "execution_count": null,
   "id": "ac2ee5db",
   "metadata": {
    "ExecuteTime": {
     "end_time": "2021-07-14T13:25:08.806944Z",
     "start_time": "2021-07-14T13:25:08.780122Z"
    }
   },
   "outputs": [],
   "source": [
    "molecules_df[molecules_df[\"community\"] == \"m01\"].groupby('Series').count()"
   ]
  },
  {
   "cell_type": "markdown",
   "id": "24447332",
   "metadata": {},
   "source": [
    "## Module 2"
   ]
  },
  {
   "cell_type": "code",
   "execution_count": null,
   "id": "e820dc44",
   "metadata": {
    "ExecuteTime": {
     "end_time": "2021-07-14T13:25:42.152163Z",
     "start_time": "2021-07-14T13:25:41.707979Z"
    }
   },
   "outputs": [],
   "source": [
    "module_pattern2 = get_representative_scaffold(molecules_df[molecules_df[\"community\"] == \"m02\"], \n",
    "                                             smiles_col='Canonical_Smiles')\n",
    "\n",
    "module_pattern2"
   ]
  },
  {
   "cell_type": "code",
   "execution_count": null,
   "id": "e8c2153c",
   "metadata": {
    "ExecuteTime": {
     "end_time": "2021-07-14T13:25:47.534247Z",
     "start_time": "2021-07-14T13:25:47.521434Z"
    }
   },
   "outputs": [],
   "source": [
    "module_pattern2['scaffold'].iloc[0]"
   ]
  },
  {
   "cell_type": "code",
   "execution_count": null,
   "id": "8546f29f",
   "metadata": {
    "ExecuteTime": {
     "end_time": "2021-07-14T13:25:52.326944Z",
     "start_time": "2021-07-14T13:25:52.284732Z"
    }
   },
   "outputs": [],
   "source": [
    "MolToImageFile(module_pattern2['scaffold'].iloc[0], \"/mnt/data/results/m02_pattern.png\")"
   ]
  },
  {
   "cell_type": "code",
   "execution_count": null,
   "id": "8f49bbdf",
   "metadata": {
    "ExecuteTime": {
     "end_time": "2021-07-14T13:25:58.386800Z",
     "start_time": "2021-07-14T13:25:57.898474Z"
    }
   },
   "outputs": [],
   "source": [
    "plot_representative_of_module(molecules_df, selected_module='m02')"
   ]
  },
  {
   "cell_type": "code",
   "execution_count": null,
   "id": "7cd94c0c",
   "metadata": {
    "ExecuteTime": {
     "end_time": "2021-07-14T13:26:05.856475Z",
     "start_time": "2021-07-14T13:26:05.432604Z"
    }
   },
   "outputs": [],
   "source": [
    "m2_pattern = get_representative_scaffold(molecules_df[molecules_df['community'] == \"m02\"])\n",
    "Chem.MolFromSmarts(m2_pattern[\"pattern\"].values[0])"
   ]
  },
  {
   "cell_type": "code",
   "execution_count": null,
   "id": "f5360cd0",
   "metadata": {
    "ExecuteTime": {
     "end_time": "2021-07-14T13:26:11.634126Z",
     "start_time": "2021-07-14T13:26:11.605997Z"
    }
   },
   "outputs": [],
   "source": [
    "molecules_df[molecules_df[\"community\"] == \"m02\"].groupby('Series').count()"
   ]
  },
  {
   "cell_type": "markdown",
   "id": "70c79a14",
   "metadata": {},
   "source": [
    "## Module 3"
   ]
  },
  {
   "cell_type": "code",
   "execution_count": null,
   "id": "1a499c9e",
   "metadata": {
    "ExecuteTime": {
     "end_time": "2021-07-14T13:26:29.660119Z",
     "start_time": "2021-07-14T13:26:29.282642Z"
    }
   },
   "outputs": [],
   "source": [
    "module_pattern3 = get_representative_scaffold(molecules_df[molecules_df[\"community\"] == \"m03\"], \n",
    "                                             smiles_col='Canonical_Smiles')\n",
    "\n",
    "module_pattern3"
   ]
  },
  {
   "cell_type": "code",
   "execution_count": null,
   "id": "c2b69a90",
   "metadata": {
    "ExecuteTime": {
     "end_time": "2021-07-14T13:26:35.822442Z",
     "start_time": "2021-07-14T13:26:35.810349Z"
    }
   },
   "outputs": [],
   "source": [
    "module_pattern3['scaffold'].iloc[0]"
   ]
  },
  {
   "cell_type": "code",
   "execution_count": null,
   "id": "b1951ac9",
   "metadata": {
    "ExecuteTime": {
     "end_time": "2021-07-14T13:26:45.467487Z",
     "start_time": "2021-07-14T13:26:45.425900Z"
    }
   },
   "outputs": [],
   "source": [
    "MolToImageFile(module_pattern3['scaffold'].iloc[0], \"/mnt/data/results/m03_pattern0.png\")"
   ]
  },
  {
   "cell_type": "code",
   "execution_count": null,
   "id": "15448c15",
   "metadata": {
    "ExecuteTime": {
     "end_time": "2021-07-14T13:26:50.468313Z",
     "start_time": "2021-07-14T13:26:50.043643Z"
    }
   },
   "outputs": [],
   "source": [
    "plot_representative_of_module(molecules_df, selected_module='m03')"
   ]
  },
  {
   "cell_type": "code",
   "execution_count": null,
   "id": "ff47f066",
   "metadata": {
    "ExecuteTime": {
     "end_time": "2021-07-14T13:26:56.688738Z",
     "start_time": "2021-07-14T13:26:56.339054Z"
    }
   },
   "outputs": [],
   "source": [
    "m3_pattern = get_representative_scaffold(molecules_df[molecules_df['community'] == \"m03\"])\n",
    "Chem.MolFromSmarts(m3_pattern[\"pattern\"].values[0])"
   ]
  },
  {
   "cell_type": "code",
   "execution_count": null,
   "id": "2db75a10",
   "metadata": {
    "ExecuteTime": {
     "end_time": "2021-07-14T13:27:01.665025Z",
     "start_time": "2021-07-14T13:27:01.642422Z"
    }
   },
   "outputs": [],
   "source": [
    "molecules_df[molecules_df[\"community\"] == \"m03\"].groupby('Series').count()"
   ]
  },
  {
   "cell_type": "markdown",
   "id": "f8b75775",
   "metadata": {},
   "source": [
    "## Module 4"
   ]
  },
  {
   "cell_type": "code",
   "execution_count": null,
   "id": "aaaf4259",
   "metadata": {
    "ExecuteTime": {
     "end_time": "2021-07-14T13:27:17.064597Z",
     "start_time": "2021-07-14T13:27:16.953487Z"
    }
   },
   "outputs": [],
   "source": [
    "module_pattern4 = get_representative_scaffold(molecules_df[molecules_df[\"community\"] == \"m04\"], \n",
    "                                             smiles_col='Canonical_Smiles')\n",
    "\n",
    "module_pattern4"
   ]
  },
  {
   "cell_type": "code",
   "execution_count": null,
   "id": "065e0b06",
   "metadata": {
    "ExecuteTime": {
     "end_time": "2021-07-14T13:27:22.062251Z",
     "start_time": "2021-07-14T13:27:22.050402Z"
    }
   },
   "outputs": [],
   "source": [
    "module_pattern4['scaffold'].iloc[0]"
   ]
  },
  {
   "cell_type": "code",
   "execution_count": null,
   "id": "b8e9b65f",
   "metadata": {
    "ExecuteTime": {
     "end_time": "2021-07-14T13:27:33.381305Z",
     "start_time": "2021-07-14T13:27:33.347284Z"
    }
   },
   "outputs": [],
   "source": [
    "MolToImageFile(module_pattern4['scaffold'].iloc[0], \"/mnt/data/results/m04_pattern0.png\")"
   ]
  },
  {
   "cell_type": "code",
   "execution_count": null,
   "id": "dc8cf1ff",
   "metadata": {
    "ExecuteTime": {
     "end_time": "2021-07-14T13:27:41.155695Z",
     "start_time": "2021-07-14T13:27:41.004761Z"
    }
   },
   "outputs": [],
   "source": [
    "plot_representative_of_module(molecules_df, selected_module='m04')"
   ]
  },
  {
   "cell_type": "code",
   "execution_count": null,
   "id": "8b201ace",
   "metadata": {
    "ExecuteTime": {
     "end_time": "2021-07-14T13:27:47.905222Z",
     "start_time": "2021-07-14T13:27:47.806783Z"
    }
   },
   "outputs": [],
   "source": [
    "m4_pattern = get_representative_scaffold(molecules_df[molecules_df['community'] == \"m04\"])\n",
    "Chem.MolFromSmarts(m4_pattern[\"pattern\"].values[0])"
   ]
  },
  {
   "cell_type": "code",
   "execution_count": null,
   "id": "bd8b5f52",
   "metadata": {
    "ExecuteTime": {
     "end_time": "2021-07-14T13:27:54.413662Z",
     "start_time": "2021-07-14T13:27:54.393396Z"
    }
   },
   "outputs": [],
   "source": [
    "molecules_df[molecules_df[\"community\"] == \"m04\"].groupby('Series').count()"
   ]
  },
  {
   "cell_type": "markdown",
   "id": "e5395610",
   "metadata": {},
   "source": [
    "## Module 5"
   ]
  },
  {
   "cell_type": "code",
   "execution_count": null,
   "id": "e7080228",
   "metadata": {
    "ExecuteTime": {
     "end_time": "2021-07-14T13:28:09.948712Z",
     "start_time": "2021-07-14T13:28:09.813391Z"
    }
   },
   "outputs": [],
   "source": [
    "module_pattern5 = get_representative_scaffold(molecules_df[molecules_df[\"community\"] == \"m05\"], \n",
    "                                             smiles_col='Canonical_Smiles')\n",
    "\n",
    "module_pattern5"
   ]
  },
  {
   "cell_type": "code",
   "execution_count": null,
   "id": "af714f66",
   "metadata": {
    "ExecuteTime": {
     "end_time": "2021-07-14T13:28:15.032957Z",
     "start_time": "2021-07-14T13:28:15.017121Z"
    }
   },
   "outputs": [],
   "source": [
    "module_pattern5['scaffold'].iloc[0]"
   ]
  },
  {
   "cell_type": "code",
   "execution_count": null,
   "id": "4f7b9148",
   "metadata": {
    "ExecuteTime": {
     "end_time": "2021-07-14T13:28:24.354310Z",
     "start_time": "2021-07-14T13:28:24.321606Z"
    }
   },
   "outputs": [],
   "source": [
    "MolToImageFile(module_pattern5['scaffold'].iloc[0], \"/mnt/data/results/m05_pattern0.png\")"
   ]
  },
  {
   "cell_type": "code",
   "execution_count": null,
   "id": "37353d09",
   "metadata": {
    "ExecuteTime": {
     "end_time": "2021-07-14T13:28:30.632358Z",
     "start_time": "2021-07-14T13:28:30.522658Z"
    }
   },
   "outputs": [],
   "source": [
    "m5_pattern = get_representative_scaffold(molecules_df[molecules_df['community'] == \"m05\"])\n",
    "Chem.MolFromSmarts(m5_pattern[\"pattern\"].values[0])"
   ]
  },
  {
   "cell_type": "code",
   "execution_count": null,
   "id": "0acc4cc5",
   "metadata": {
    "ExecuteTime": {
     "end_time": "2021-07-14T13:28:37.830699Z",
     "start_time": "2021-07-14T13:28:37.677242Z"
    }
   },
   "outputs": [],
   "source": [
    "plot_representative_of_module(molecules_df, selected_module='m05')"
   ]
  },
  {
   "cell_type": "code",
   "execution_count": null,
   "id": "617be10b",
   "metadata": {
    "ExecuteTime": {
     "end_time": "2021-07-14T13:28:43.894129Z",
     "start_time": "2021-07-14T13:28:43.873569Z"
    }
   },
   "outputs": [],
   "source": [
    "molecules_df[molecules_df[\"community\"] == \"m05\"].groupby('Series').count()"
   ]
  },
  {
   "cell_type": "markdown",
   "id": "f93297f0",
   "metadata": {},
   "source": [
    "# Piecewise Model"
   ]
  },
  {
   "cell_type": "code",
   "execution_count": null,
   "id": "25563a42",
   "metadata": {
    "ExecuteTime": {
     "end_time": "2021-07-14T13:29:07.569219Z",
     "start_time": "2021-07-14T13:29:07.561920Z"
    }
   },
   "outputs": [],
   "source": [
    "def get_linear_equation(row):\n",
    "    coeffs = ['%+.2f %s' % (val, coeff) for coeff, val in row.iteritems() \n",
    "              if not (math.isnan(val) or float(val) == 0) and coeff != 'B']\n",
    "    equation_str = ' '.join(coeffs)\n",
    "    equation_str += \" %+.2f\" % row['B']    \n",
    "    return equation_str  \n",
    "\n",
    "def print_module_equations(coeffs, module):\n",
    "    \"\"\"Helper function to print a clean representation of piecewise equations for informed module\"\"\"\n",
    "    \n",
    "    coeffs = coeffs.query('module == \"%s\"' % module)\n",
    "\n",
    "    for idx, row in coeffs.groupby(['module', 'region']):\n",
    "        equation = get_linear_equation(row.drop(columns=['module', 'region']))\n",
    "        print('Equations for Module %s | Region %d\\n' % (idx[0], idx[1] + 1))\n",
    "        print(\"pIC50 = \", equation)\n",
    "        print()"
   ]
  },
  {
   "cell_type": "code",
   "execution_count": null,
   "id": "99fc2469",
   "metadata": {
    "ExecuteTime": {
     "end_time": "2021-07-14T13:29:12.483555Z",
     "start_time": "2021-07-14T13:29:12.401973Z"
    }
   },
   "outputs": [],
   "source": [
    "coeff, breakpoints = modsar_alg.get_model_info()"
   ]
  },
  {
   "cell_type": "code",
   "execution_count": null,
   "id": "cee1dc41",
   "metadata": {
    "ExecuteTime": {
     "end_time": "2021-07-14T13:29:16.603466Z",
     "start_time": "2021-07-14T13:29:16.509790Z"
    }
   },
   "outputs": [],
   "source": [
    "coeff.sort_values(by=\"module\")"
   ]
  },
  {
   "cell_type": "markdown",
   "id": "7ad210c6",
   "metadata": {},
   "source": [
    "## Linear Equations"
   ]
  },
  {
   "cell_type": "code",
   "execution_count": null,
   "id": "2c76c02d",
   "metadata": {
    "ExecuteTime": {
     "end_time": "2021-07-14T13:29:42.467269Z",
     "start_time": "2021-07-14T13:29:42.447646Z"
    }
   },
   "outputs": [],
   "source": [
    "print_module_equations(coeff, 'm01')"
   ]
  },
  {
   "cell_type": "code",
   "execution_count": null,
   "id": "5930b20c",
   "metadata": {
    "ExecuteTime": {
     "end_time": "2021-07-14T13:29:45.964811Z",
     "start_time": "2021-07-14T13:29:45.946972Z"
    }
   },
   "outputs": [],
   "source": [
    "print_module_equations(coeff, 'm02')"
   ]
  },
  {
   "cell_type": "code",
   "execution_count": null,
   "id": "e7549721",
   "metadata": {
    "ExecuteTime": {
     "end_time": "2021-07-14T13:29:49.453790Z",
     "start_time": "2021-07-14T13:29:49.429690Z"
    }
   },
   "outputs": [],
   "source": [
    "print_module_equations(coeff, 'm03')"
   ]
  },
  {
   "cell_type": "code",
   "execution_count": null,
   "id": "fb84de7d",
   "metadata": {
    "ExecuteTime": {
     "end_time": "2021-07-14T13:29:52.908996Z",
     "start_time": "2021-07-14T13:29:52.887774Z"
    }
   },
   "outputs": [],
   "source": [
    "print_module_equations(coeff, 'm04')"
   ]
  },
  {
   "cell_type": "code",
   "execution_count": null,
   "id": "341b10e9",
   "metadata": {
    "ExecuteTime": {
     "end_time": "2021-07-14T13:29:56.571700Z",
     "start_time": "2021-07-14T13:29:56.553581Z"
    }
   },
   "outputs": [],
   "source": [
    "print_module_equations(coeff, 'm05')"
   ]
  },
  {
   "cell_type": "markdown",
   "id": "48a4732f",
   "metadata": {},
   "source": [
    "## Breakpoints"
   ]
  },
  {
   "cell_type": "code",
   "execution_count": null,
   "id": "03b2451b",
   "metadata": {
    "ExecuteTime": {
     "end_time": "2021-07-14T13:32:14.189254Z",
     "start_time": "2021-07-14T13:32:14.169326Z"
    }
   },
   "outputs": [],
   "source": [
    "def draw_ecfp_bit(bit_name, df, fps):\n",
    "    ones_df = df.loc[fps[fps[bit_name] == 1].index]\n",
    "    mol = Chem.MolFromSmiles(ones_df['Canonical_Smiles'].iloc[1])\n",
    "    bi = {}\n",
    "    fp = AllChem.GetMorganFingerprintAsBitVect(mol, 2, nBits=1024, bitInfo=bi)\n",
    "    bit = int(bit_name.replace('Bit_',''))\n",
    "    return mol,bit,bi\n",
    "\n",
    "#\n",
    "# Functions for providing detailed descriptions of MFP bits from Nadine Schneider \n",
    "#  It's probably better to do this using the atomSymbols argument but this does work.\n",
    "#\n",
    "def includeRingMembership(s, n):\n",
    "    r=';R]'\n",
    "    d=\"]\"\n",
    "    return r.join([d.join(s.split(d)[:n]),d.join(s.split(d)[n:])])\n",
    " \n",
    "def includeDegree(s, n, d):\n",
    "    r=';D'+str(d)+']'\n",
    "    d=\"]\"\n",
    "    return r.join([d.join(s.split(d)[:n]),d.join(s.split(d)[n:])])\n",
    " \n",
    "def writePropsToSmiles(mol,smi,order):\n",
    "    #finalsmi = copy.deepcopy(smi)\n",
    "    finalsmi = smi\n",
    "    for i,a in enumerate(order):\n",
    "        atom = mol.GetAtomWithIdx(a)\n",
    "        if atom.IsInRing():\n",
    "            finalsmi = includeRingMembership(finalsmi, i+1)\n",
    "        finalsmi = includeDegree(finalsmi, i+1, atom.GetDegree())\n",
    "    return finalsmi\n",
    " \n",
    "def getSubstructSmi(mol,atomID,radius):\n",
    "    if radius>0:\n",
    "        env = Chem.FindAtomEnvironmentOfRadiusN(mol,radius,atomID)\n",
    "        atomsToUse=[]\n",
    "        for b in env:\n",
    "            atomsToUse.append(mol.GetBondWithIdx(b).GetBeginAtomIdx())\n",
    "            atomsToUse.append(mol.GetBondWithIdx(b).GetEndAtomIdx())\n",
    "        atomsToUse = list(set(atomsToUse))\n",
    "    else:\n",
    "        atomsToUse = [atomID]\n",
    "        env=None\n",
    "    smi = Chem.MolFragmentToSmiles(mol,atomsToUse,bondsToUse=env,allHsExplicit=True, allBondsExplicit=True, rootedAtAtom=atomID)\n",
    "    order = eval(mol.GetProp(\"_smilesAtomOutputOrder\"))\n",
    "    smi2 = writePropsToSmiles(mol,smi,order)\n",
    "    return smi,smi2,atomsToUse,env"
   ]
  },
  {
   "cell_type": "code",
   "execution_count": null,
   "id": "80aaf2d9",
   "metadata": {
    "ExecuteTime": {
     "end_time": "2021-07-14T13:30:42.979844Z",
     "start_time": "2021-07-14T13:30:42.962146Z"
    }
   },
   "outputs": [],
   "source": [
    "breakpoints[breakpoints[\"module\"] == \"m01\"]"
   ]
  },
  {
   "cell_type": "code",
   "execution_count": null,
   "id": "af50324d",
   "metadata": {
    "ExecuteTime": {
     "end_time": "2021-07-14T13:31:31.479913Z",
     "start_time": "2021-07-14T13:31:31.456656Z"
    }
   },
   "outputs": [],
   "source": [
    "mol,bit,bi = draw_ecfp_bit('Bit_0350', molecules_df,dataset_morgan2.X)\n",
    "bit350 = Draw.DrawMorganBit(mol,bit,bi)\n",
    "bit350"
   ]
  },
  {
   "cell_type": "code",
   "execution_count": null,
   "id": "43443b26",
   "metadata": {
    "ExecuteTime": {
     "end_time": "2021-07-14T13:32:17.005839Z",
     "start_time": "2021-07-14T13:32:16.990959Z"
    }
   },
   "outputs": [],
   "source": [
    "mol,bit,bi = draw_ecfp_bit('Bit_0350', molecules_df,dataset_morgan2.X)\n",
    "atomid = bi[bit][0][0]\n",
    "r = bi[bit][0][1]\n",
    "_, sma,hit_ats,hit_bonds = getSubstructSmi(mol,atomid,r)\n",
    "sma"
   ]
  },
  {
   "cell_type": "code",
   "execution_count": null,
   "id": "4b2811f1",
   "metadata": {},
   "outputs": [],
   "source": [
    "bit350.save(\"/mnt/data/results/bit_350.png\")"
   ]
  },
  {
   "cell_type": "code",
   "execution_count": null,
   "id": "efcb5946",
   "metadata": {
    "ExecuteTime": {
     "end_time": "2021-07-14T13:32:40.163073Z",
     "start_time": "2021-07-14T13:32:40.141890Z"
    }
   },
   "outputs": [],
   "source": [
    "breakpoints[breakpoints[\"module\"] == \"m02\"]"
   ]
  },
  {
   "cell_type": "code",
   "execution_count": null,
   "id": "d6c9fc4e",
   "metadata": {
    "ExecuteTime": {
     "end_time": "2021-07-14T13:32:46.431697Z",
     "start_time": "2021-07-14T13:32:46.412173Z"
    }
   },
   "outputs": [],
   "source": [
    "mol,bit,bi = draw_ecfp_bit('Bit_0875', molecules_df,dataset_morgan2.X)\n",
    "bit875 = Draw.DrawMorganBit(mol,bit,bi)\n",
    "bit875"
   ]
  },
  {
   "cell_type": "code",
   "execution_count": null,
   "id": "be75dea8",
   "metadata": {
    "ExecuteTime": {
     "end_time": "2021-07-14T13:32:51.934787Z",
     "start_time": "2021-07-14T13:32:51.895198Z"
    }
   },
   "outputs": [],
   "source": [
    "mol,bit,bi = draw_ecfp_bit('Bit_0875', molecules_df,dataset_morgan2.X)\n",
    "bit875 = Draw.DrawMorganBit(mol,bit,bi)\n",
    "bit875.save(\"/mnt/data/results/bit_875.png\")\n",
    "atomid = bi[bit][0][0]\n",
    "r = bi[bit][0][1]\n",
    "_, sma,hit_ats,hit_bonds = getSubstructSmi(mol,atomid,r)\n",
    "sma"
   ]
  },
  {
   "cell_type": "code",
   "execution_count": null,
   "id": "d48523db",
   "metadata": {},
   "outputs": [],
   "source": [
    "bit875.save(\"/mnt/data/results/bit_875.png\")"
   ]
  },
  {
   "cell_type": "code",
   "execution_count": null,
   "id": "dd2b77e2",
   "metadata": {
    "ExecuteTime": {
     "end_time": "2021-07-14T13:33:06.083597Z",
     "start_time": "2021-07-14T13:33:06.066409Z"
    }
   },
   "outputs": [],
   "source": [
    "breakpoints[breakpoints[\"module\"] == \"m03\"]"
   ]
  },
  {
   "cell_type": "code",
   "execution_count": null,
   "id": "2eeffae9",
   "metadata": {
    "ExecuteTime": {
     "end_time": "2021-07-14T13:33:56.234957Z",
     "start_time": "2021-07-14T13:33:56.214112Z"
    }
   },
   "outputs": [],
   "source": [
    "mol,bit,bi = draw_ecfp_bit('Bit_0896', molecules_df,dataset_morgan2.X)\n",
    "bit896 = Draw.DrawMorganBit(mol,bit,bi)\n",
    "# bit896.save(\"/mnt/data/results/bit_896.png\")\n",
    "bit896"
   ]
  },
  {
   "cell_type": "code",
   "execution_count": null,
   "id": "9a3be733",
   "metadata": {
    "ExecuteTime": {
     "end_time": "2021-07-14T13:34:00.012931Z",
     "start_time": "2021-07-14T13:34:00.003446Z"
    }
   },
   "outputs": [],
   "source": [
    "atomid = bi[bit][0][0]\n",
    "r = bi[bit][0][1]\n",
    "_, sma,hit_ats,hit_bonds = getSubstructSmi(mol,atomid,r)\n",
    "sma"
   ]
  },
  {
   "cell_type": "code",
   "execution_count": null,
   "id": "b1de3ae5",
   "metadata": {
    "ExecuteTime": {
     "end_time": "2021-07-14T13:33:24.060445Z",
     "start_time": "2021-07-14T13:33:24.039575Z"
    }
   },
   "outputs": [],
   "source": [
    "breakpoints[breakpoints[\"module\"] == \"m04\"]"
   ]
  },
  {
   "cell_type": "code",
   "execution_count": null,
   "id": "2e930122",
   "metadata": {
    "ExecuteTime": {
     "end_time": "2021-07-14T13:34:11.000172Z",
     "start_time": "2021-07-14T13:34:10.975404Z"
    }
   },
   "outputs": [],
   "source": [
    "mol,bit,bi = draw_ecfp_bit('Bit_0484', molecules_df,dataset_morgan2.X)\n",
    "bit484 = Draw.DrawMorganBit(mol,bit,bi)\n",
    "# bit484.save(\"/mnt/data/results/bit_484.png\")\n",
    "bit484"
   ]
  },
  {
   "cell_type": "code",
   "execution_count": null,
   "id": "4f4c18f3",
   "metadata": {
    "ExecuteTime": {
     "end_time": "2021-07-14T13:34:14.550956Z",
     "start_time": "2021-07-14T13:34:14.542809Z"
    }
   },
   "outputs": [],
   "source": [
    "atomid = bi[bit][0][0]\n",
    "r = bi[bit][0][1]\n",
    "_, sma,hit_ats,hit_bonds = getSubstructSmi(mol,atomid,r)\n",
    "sma"
   ]
  },
  {
   "cell_type": "code",
   "execution_count": null,
   "id": "54eea1ba",
   "metadata": {
    "ExecuteTime": {
     "end_time": "2021-07-14T13:34:22.494627Z",
     "start_time": "2021-07-14T13:34:22.478233Z"
    }
   },
   "outputs": [],
   "source": [
    "breakpoints[breakpoints[\"module\"] == \"m05\"]"
   ]
  },
  {
   "cell_type": "code",
   "execution_count": null,
   "id": "1b8e4998",
   "metadata": {
    "ExecuteTime": {
     "end_time": "2021-07-14T13:34:38.834855Z",
     "start_time": "2021-07-14T13:34:38.812627Z"
    }
   },
   "outputs": [],
   "source": [
    "mol,bit,bi = draw_ecfp_bit('Bit_0248', molecules_df,dataset_morgan2.X)\n",
    "bit248 = Draw.DrawMorganBit(mol,bit,bi)\n",
    "# bit248.save(\"/mnt/data/results/bit_248.png\")\n",
    "bit248"
   ]
  },
  {
   "cell_type": "code",
   "execution_count": null,
   "id": "e014ca7b",
   "metadata": {
    "ExecuteTime": {
     "end_time": "2021-07-14T13:34:41.049642Z",
     "start_time": "2021-07-14T13:34:41.039503Z"
    }
   },
   "outputs": [],
   "source": [
    "atomid = bi[bit][0][0]\n",
    "r = bi[bit][0][1]\n",
    "_, sma,hit_ats,hit_bonds = getSubstructSmi(mol,atomid,r)\n",
    "sma"
   ]
  },
  {
   "cell_type": "markdown",
   "id": "2616de2c",
   "metadata": {},
   "source": [
    "# Applicability Domain"
   ]
  },
  {
   "cell_type": "markdown",
   "id": "12abb7d2",
   "metadata": {},
   "source": [
    "## Train/test set split\n",
    "Any method and any data split could be used here, we selected the seventh data split at random state = 0."
   ]
  },
  {
   "cell_type": "code",
   "execution_count": null,
   "id": "1abea43a",
   "metadata": {},
   "outputs": [],
   "source": [
    "import joblib\n",
    "import matplotlib.pyplot as plt"
   ]
  },
  {
   "cell_type": "code",
   "execution_count": null,
   "id": "63e58093",
   "metadata": {
    "ExecuteTime": {
     "end_time": "2021-07-14T15:20:01.182318Z",
     "start_time": "2021-07-14T15:20:00.795031Z"
    }
   },
   "outputs": [],
   "source": [
    "cv_results = joblib.load(\"data/results/modsar_alg_cv_result5_0.joblib\")\n",
    "cv_results_df = pd.DataFrame(cv_results)\n",
    "cv_results_df"
   ]
  },
  {
   "cell_type": "code",
   "execution_count": null,
   "id": "a8437ab7",
   "metadata": {
    "ExecuteTime": {
     "end_time": "2021-07-14T15:20:18.677880Z",
     "start_time": "2021-07-14T15:20:18.672152Z"
    }
   },
   "outputs": [],
   "source": [
    "modsar_alg_cv = cv_results_df['estimator'].iloc[1]"
   ]
  },
  {
   "cell_type": "code",
   "execution_count": null,
   "id": "72cb3a65",
   "metadata": {
    "ExecuteTime": {
     "end_time": "2021-07-14T15:16:23.491396Z",
     "start_time": "2021-07-14T15:16:23.487936Z"
    }
   },
   "outputs": [],
   "source": [
    "from sklearn.model_selection import ShuffleSplit\n",
    "cv = ShuffleSplit(n_splits=5, test_size=0.1, random_state=0)"
   ]
  },
  {
   "cell_type": "code",
   "execution_count": null,
   "id": "8dfb6309",
   "metadata": {
    "ExecuteTime": {
     "end_time": "2021-07-14T15:16:33.981281Z",
     "start_time": "2021-07-14T15:16:33.971481Z"
    }
   },
   "outputs": [],
   "source": [
    "train_meta = dataset_morgan2.metadata.iloc[list(cv.split(dataset_morgan2.X))[1][0]]\n",
    "test_meta = dataset_morgan2.metadata.iloc[list(cv.split(dataset_morgan2.X))[1][1]]"
   ]
  },
  {
   "cell_type": "code",
   "execution_count": null,
   "id": "21b8d00e",
   "metadata": {
    "ExecuteTime": {
     "end_time": "2021-07-14T15:16:43.099395Z",
     "start_time": "2021-07-14T15:16:43.084652Z"
    }
   },
   "outputs": [],
   "source": [
    "X_train = dataset_morgan2.X.iloc[list(cv.split(dataset_morgan2.X))[1][0]]\n",
    "X_test = dataset_morgan2.X.iloc[list(cv.split(dataset_morgan2.X))[1][1]]\n",
    "y_train = dataset_morgan2.y.iloc[list(cv.split(dataset_morgan2.X))[1][0]]\n",
    "y_test = dataset_morgan2.y.iloc[list(cv.split(dataset_morgan2.X))[1][1]]"
   ]
  },
  {
   "cell_type": "markdown",
   "id": "666dc1be",
   "metadata": {},
   "source": [
    "## Leverage Approach and Williams Plot"
   ]
  },
  {
   "cell_type": "code",
   "execution_count": null,
   "id": "8fdeebe9",
   "metadata": {},
   "outputs": [],
   "source": [
    "import seaborn as sns"
   ]
  },
  {
   "cell_type": "code",
   "execution_count": null,
   "id": "09e936d5",
   "metadata": {
    "ExecuteTime": {
     "end_time": "2021-07-14T15:36:41.127097Z",
     "start_time": "2021-07-14T15:36:41.110820Z"
    }
   },
   "outputs": [],
   "source": [
    "def hat_matrix(X1):#, X2): #Hat Matrix\n",
    "    hat_mat =  np.dot(np.dot(X1, np.linalg.inv(np.dot(X1.T, X1))), X1.T)\n",
    "    return hat_mat\n",
    "    \n",
    "def williams_plot(X_train, X_test, Y_true_train, Y_true_test, y_pred_train, y_pred_test, toPrint = True,toPlot=True,path = './',filename = ''):\n",
    "    H_train= hat_matrix(np.concatenate([X_train, X_test], axis=0))#, numpy.concatenate([X_train, X_test], axis=0))\n",
    "#     y_pred_train= model.predict(X_train)\n",
    "#     y_pred_test= model.predict(X_test)\n",
    "    \n",
    "    y_pred_test = y_pred_test.reshape(y_pred_test.shape[0],)\n",
    "    y_pred_train = y_pred_train.reshape(y_pred_train.shape[0],)\n",
    "    Y_true_train = Y_true_train.reshape(Y_true_train.shape[0],)\n",
    "    Y_true_test = Y_true_test.reshape(Y_true_test.shape[0],)\n",
    "    \n",
    "    residual_train= np.abs(Y_true_train - y_pred_train)\n",
    "    residual_test= np.abs(Y_true_test - y_pred_test)\n",
    "    s_residual_train = ((residual_train) - np.mean(residual_train)) / np.std(residual_train)\n",
    "    s_residual_test = (residual_test - np.mean(residual_test))/ np.std(residual_test)\n",
    "\n",
    "    leverage= np.diag(H_train)\n",
    "    leverage_train = leverage[0:X_train.shape[0]]\n",
    "    leverage_test = leverage[X_train.shape[0]:]\n",
    "    p = X_train.shape[1] #features\n",
    "    n = X_train.shape[0] #+ X_test.shape[0] #training compounds\n",
    "    h_star = (3 * (p+1))/float(n)\n",
    "    \n",
    "    train_points_in_ad = float(100 * np.sum(np.asarray(leverage_train < h_star) & np.asarray(s_residual_train<3))) / len(leverage_train)\n",
    "    test_points_in_ad = float(100 * np.sum(np.asarray(leverage_test < h_star) & np.asarray(s_residual_test<3))) / len(leverage_test)\n",
    "\n",
    "    test_lev_out = np.sum(np.asarray(leverage_test > h_star))\n",
    "    \n",
    "    if toPrint:\n",
    "        print(\"Percetege of train points inside AD: {}%\".format(train_points_in_ad))\n",
    "        print(\"Percetege of test points inside AD: {}%\".format(test_points_in_ad))\n",
    "        print(\"h*: {}\".format(h_star))\n",
    "        \n",
    "    train_df = pd.DataFrame({\"x\":leverage_train.tolist(), \"y\": s_residual_train.tolist()})\n",
    "    train_df['label'] = 'train'\n",
    "    test_df = pd.DataFrame({\"x\":leverage_test.tolist(), \"y\": s_residual_test.tolist()})\n",
    "    test_df['label'] = 'test'\n",
    "    df = pd.concat([train_df, test_df], axis = 0)\n",
    "\n",
    "    if toPlot:\n",
    "    \n",
    "#       plt.plot(leverage_train.tolist(),s_residual_train.tolist(),'o', label='train')\n",
    "#         sns.scatterplot(leverage_train.tolist(),s_residual_train.tolist(), label='train')\n",
    "#       plt.plot(leverage_test.tolist(),s_residual_test.tolist(),'^', label = 'test')\n",
    "#         sns.scatterplot(leverage_test.tolist(),s_residual_test.tolist(), label = 'test')\n",
    "        sns.scatterplot(df, x = \"x\", y = \"y\", hue = 'label')\n",
    "        plt.axhline(y=3, linestyle='--')\n",
    "        plt.axhline(y=-3, linestyle='--')\n",
    "        plt.axvline(x=h_star, linestyle='-')\n",
    "        plt.text(x = 0.0263, y = 3.3, s = 'h*', color = '#1f77b4')\n",
    "        plt.ylim(bottom=-3.2)\n",
    "        plt.xlabel('Leverage')\n",
    "        plt.ylabel('Standardized Residuals')\n",
    "        plt.legend(loc='lower right', shadow=True)\n",
    "        plt.savefig(\"data/williams_plot2.png\")\n",
    "#       plt.close()\n",
    "        plt.show()\n",
    "\n",
    "    return test_points_in_ad,train_points_in_ad,test_lev_out,h_star,leverage_train,leverage_test,s_residual_train,s_residual_test"
   ]
  },
  {
   "cell_type": "code",
   "execution_count": null,
   "id": "0c0b9b6d",
   "metadata": {
    "ExecuteTime": {
     "end_time": "2021-07-14T15:20:24.533612Z",
     "start_time": "2021-07-14T15:20:23.160262Z"
    }
   },
   "outputs": [],
   "source": [
    "from sklearn.decomposition import PCA\n",
    "y_train_pred = modsar_alg_cv.predict(X_train)\n",
    "y_test_pred = modsar_alg_cv.predict(X_test)"
   ]
  },
  {
   "cell_type": "code",
   "execution_count": null,
   "id": "b917bd7c",
   "metadata": {},
   "outputs": [],
   "source": [
    "pca_model1 = PCA(n_components = 2)\n",
    "all_data = pca_model1.fit_transform(dataset_morgan2.X)\n",
    "x_train_pca = all_data[list(cv.split(dataset_morgan2.X))[1][0]]\n",
    "x_test_pca = all_data[list(cv.split(dataset_morgan2.X))[1][1]]"
   ]
  },
  {
   "cell_type": "code",
   "execution_count": null,
   "id": "ff55a6b0",
   "metadata": {
    "ExecuteTime": {
     "end_time": "2021-07-14T15:36:43.959640Z",
     "start_time": "2021-07-14T15:36:43.640480Z"
    }
   },
   "outputs": [],
   "source": [
    "wp = williams_plot(x_train_pca, x_test_pca, y_train.values, y_test.values, y_train_pred, y_test_pred)"
   ]
  },
  {
   "cell_type": "markdown",
   "id": "8f6d8592",
   "metadata": {},
   "source": [
    "# SHAP value"
   ]
  },
  {
   "cell_type": "code",
   "execution_count": null,
   "id": "904649f2",
   "metadata": {
    "ExecuteTime": {
     "end_time": "2021-07-14T13:59:48.789603Z",
     "start_time": "2021-07-14T13:59:48.738567Z"
    }
   },
   "outputs": [],
   "source": [
    "from sklearn.linear_model import LinearRegression\n",
    "import shap\n",
    "import shap_barplot\n",
    "from shap_barplot import barplot"
   ]
  },
  {
   "cell_type": "code",
   "execution_count": null,
   "id": "dc43d1d3",
   "metadata": {
    "ExecuteTime": {
     "end_time": "2021-07-14T13:59:48.232745Z",
     "start_time": "2021-07-14T13:49:48.577419Z"
    }
   },
   "outputs": [],
   "source": [
    "explainer = shap.Explainer(modsar_alg.models['m01'].predict, dataset_morgan2.X.loc[molecules_df[molecules_df['community'] == 'm01'].index])\n",
    "shap_values1 = explainer(dataset_morgan2.X.loc[molecules_df[molecules_df['community'] == 'm01'].index])\n",
    "shap.plots.waterfall(shap_values1[0], max_display=12)"
   ]
  },
  {
   "cell_type": "code",
   "execution_count": null,
   "id": "7a3e4052",
   "metadata": {
    "ExecuteTime": {
     "end_time": "2021-07-14T13:59:48.733061Z",
     "start_time": "2021-07-14T13:59:48.237226Z"
    }
   },
   "outputs": [],
   "source": [
    "shap.plots.bar(shap_values1, max_display=13)"
   ]
  },
  {
   "cell_type": "code",
   "execution_count": null,
   "id": "7748ec98",
   "metadata": {
    "ExecuteTime": {
     "end_time": "2021-07-14T13:59:49.381257Z",
     "start_time": "2021-07-14T13:59:48.793571Z"
    }
   },
   "outputs": [],
   "source": [
    "column_names = dataset_morgan2.X.columns\n",
    "img,_ = barplot.shap_barplot(dataset_morgan2.X.loc[molecules_df[molecules_df['community'] == 'm01'].index], shap_values1.values, column_names,num_features=12)"
   ]
  },
  {
   "cell_type": "code",
   "execution_count": null,
   "id": "50876fce",
   "metadata": {
    "ExecuteTime": {
     "end_time": "2021-07-14T13:59:49.829528Z",
     "start_time": "2021-07-14T13:59:49.385008Z"
    }
   },
   "outputs": [],
   "source": [
    "shap.plots.heatmap(shap_values1, max_display=13)"
   ]
  },
  {
   "cell_type": "code",
   "execution_count": null,
   "id": "97dba6ac",
   "metadata": {
    "ExecuteTime": {
     "end_time": "2021-07-14T14:29:03.463844Z",
     "start_time": "2021-07-14T13:59:49.832481Z"
    }
   },
   "outputs": [],
   "source": [
    "explainer2 = shap.Explainer(modsar_alg.models['m02'].predict, dataset_morgan2.X.loc[molecules_df[molecules_df['community'] == 'm02'].index])\n",
    "shap_values2 = explainer2(dataset_morgan2.X.loc[molecules_df[molecules_df['community'] == 'm02'].index])\n",
    "shap.plots.waterfall(shap_values2[0], max_display=3)"
   ]
  },
  {
   "cell_type": "code",
   "execution_count": null,
   "id": "89e6257e",
   "metadata": {
    "ExecuteTime": {
     "end_time": "2021-07-14T14:29:03.803824Z",
     "start_time": "2021-07-14T14:29:03.468215Z"
    }
   },
   "outputs": [],
   "source": [
    "shap.plots.bar(shap_values2, max_display=4)"
   ]
  },
  {
   "cell_type": "code",
   "execution_count": null,
   "id": "e6e78596",
   "metadata": {
    "ExecuteTime": {
     "end_time": "2021-07-14T14:29:04.309197Z",
     "start_time": "2021-07-14T14:29:03.809512Z"
    }
   },
   "outputs": [],
   "source": [
    "column_names = dataset_morgan2.X.columns\n",
    "img,_ = barplot.shap_barplot(dataset_morgan2.X.loc[molecules_df[molecules_df['community'] == 'm02'].index], shap_values2.values, column_names,num_features=3)"
   ]
  },
  {
   "cell_type": "code",
   "execution_count": null,
   "id": "e2a73fbb",
   "metadata": {
    "ExecuteTime": {
     "end_time": "2021-07-14T14:29:04.739832Z",
     "start_time": "2021-07-14T14:29:04.313912Z"
    }
   },
   "outputs": [],
   "source": [
    "shap.plots.heatmap(shap_values2, max_display=4)"
   ]
  },
  {
   "cell_type": "code",
   "execution_count": null,
   "id": "94435f58",
   "metadata": {
    "ExecuteTime": {
     "end_time": "2021-07-14T14:56:26.470415Z",
     "start_time": "2021-07-14T14:29:04.743923Z"
    }
   },
   "outputs": [],
   "source": [
    "explainer3 = shap.Explainer(modsar_alg.models['m03'].predict, dataset_morgan2.X.loc[molecules_df[molecules_df['community'] == 'm03'].index])\n",
    "shap_values3 = explainer3(dataset_morgan2.X.loc[molecules_df[molecules_df['community'] == 'm03'].index])\n",
    "shap.plots.waterfall(shap_values3[0], max_display= 4)"
   ]
  },
  {
   "cell_type": "code",
   "execution_count": null,
   "id": "8094f26a",
   "metadata": {
    "ExecuteTime": {
     "end_time": "2021-07-14T14:56:26.818127Z",
     "start_time": "2021-07-14T14:56:26.474758Z"
    }
   },
   "outputs": [],
   "source": [
    "shap.plots.bar(shap_values3,max_display= 4)"
   ]
  },
  {
   "cell_type": "code",
   "execution_count": null,
   "id": "79413f7d",
   "metadata": {
    "ExecuteTime": {
     "end_time": "2021-07-14T14:56:27.374917Z",
     "start_time": "2021-07-14T14:56:26.821647Z"
    }
   },
   "outputs": [],
   "source": [
    "column_names = dataset_morgan2.X.columns\n",
    "img,_ = barplot.shap_barplot(dataset_morgan2.X.loc[molecules_df[molecules_df['community'] == 'm03'].index], shap_values3.values, column_names,num_features=3)"
   ]
  },
  {
   "cell_type": "code",
   "execution_count": null,
   "id": "c7e6cb7c",
   "metadata": {
    "ExecuteTime": {
     "end_time": "2021-07-14T14:56:27.842056Z",
     "start_time": "2021-07-14T14:56:27.379201Z"
    }
   },
   "outputs": [],
   "source": [
    "shap.plots.heatmap(shap_values3, max_display=4)"
   ]
  },
  {
   "cell_type": "code",
   "execution_count": null,
   "id": "913cdfa7",
   "metadata": {
    "ExecuteTime": {
     "end_time": "2021-07-14T15:03:03.161497Z",
     "start_time": "2021-07-14T14:56:27.846603Z"
    }
   },
   "outputs": [],
   "source": [
    "explainer4 = shap.Explainer(modsar_alg.models['m04'].predict, dataset_morgan2.X.loc[molecules_df[molecules_df['community'] == 'm04'].index])\n",
    "shap_values4 = explainer4(dataset_morgan2.X.loc[molecules_df[molecules_df['community'] == 'm04'].index])\n",
    "shap.plots.waterfall(shap_values4[0], max_display=3)"
   ]
  },
  {
   "cell_type": "code",
   "execution_count": null,
   "id": "758c72dd",
   "metadata": {
    "ExecuteTime": {
     "end_time": "2021-07-14T15:03:03.400360Z",
     "start_time": "2021-07-14T15:03:03.165166Z"
    }
   },
   "outputs": [],
   "source": [
    "shap.plots.bar(shap_values4, max_display=3)"
   ]
  },
  {
   "cell_type": "code",
   "execution_count": null,
   "id": "010b256f",
   "metadata": {
    "ExecuteTime": {
     "end_time": "2021-07-14T15:03:03.735615Z",
     "start_time": "2021-07-14T15:03:03.403026Z"
    }
   },
   "outputs": [],
   "source": [
    "column_names = dataset_morgan2.X.columns\n",
    "img,_ = barplot.shap_barplot(dataset_morgan2.X.loc[molecules_df[molecules_df['community'] == 'm04'].index], shap_values4.values, column_names,num_features=2)"
   ]
  },
  {
   "cell_type": "code",
   "execution_count": null,
   "id": "4b500f6c",
   "metadata": {
    "ExecuteTime": {
     "end_time": "2021-07-14T15:03:03.960448Z",
     "start_time": "2021-07-14T15:03:03.737847Z"
    }
   },
   "outputs": [],
   "source": [
    "shap.plots.heatmap(shap_values4, max_display=3)"
   ]
  },
  {
   "cell_type": "code",
   "execution_count": null,
   "id": "b9f99f6e",
   "metadata": {
    "ExecuteTime": {
     "end_time": "2021-07-14T15:07:19.900943Z",
     "start_time": "2021-07-14T15:03:03.963454Z"
    }
   },
   "outputs": [],
   "source": [
    "explainer5 = shap.Explainer(modsar_alg.models['m05'].predict, dataset_morgan2.X.loc[molecules_df[molecules_df['community'] == 'm05'].index])\n",
    "shap_values5 = explainer5(dataset_morgan2.X.loc[molecules_df[molecules_df['community'] == 'm05'].index])\n",
    "shap.plots.waterfall(shap_values5[0], max_display=12)"
   ]
  },
  {
   "cell_type": "code",
   "execution_count": null,
   "id": "93c0cb76",
   "metadata": {
    "ExecuteTime": {
     "end_time": "2021-07-14T15:07:20.384911Z",
     "start_time": "2021-07-14T15:07:19.903904Z"
    }
   },
   "outputs": [],
   "source": [
    "shap.plots.bar(shap_values5, max_display=13)"
   ]
  },
  {
   "cell_type": "code",
   "execution_count": null,
   "id": "334c38cd",
   "metadata": {
    "ExecuteTime": {
     "end_time": "2021-07-14T15:07:20.834832Z",
     "start_time": "2021-07-14T15:07:20.413318Z"
    }
   },
   "outputs": [],
   "source": [
    "column_names = dataset_morgan2.X.columns\n",
    "img,_ = barplot.shap_barplot(dataset_morgan2.X.loc[molecules_df[molecules_df['community'] == 'm05'].index], shap_values5.values, column_names,num_features=15)"
   ]
  },
  {
   "cell_type": "code",
   "execution_count": null,
   "id": "64b4d356",
   "metadata": {
    "ExecuteTime": {
     "end_time": "2021-07-14T15:07:21.165772Z",
     "start_time": "2021-07-14T15:07:20.837436Z"
    }
   },
   "outputs": [],
   "source": [
    "shap.plots.heatmap(shap_values5, max_display=13)"
   ]
  },
  {
   "cell_type": "markdown",
   "id": "dd09f67f",
   "metadata": {},
   "source": [
    "# Visualize Important Bits"
   ]
  },
  {
   "cell_type": "code",
   "execution_count": null,
   "id": "0c19a71a",
   "metadata": {
    "ExecuteTime": {
     "end_time": "2021-07-14T15:25:08.526189Z",
     "start_time": "2021-07-14T15:25:08.515344Z"
    }
   },
   "outputs": [],
   "source": [
    "from rdkit.Chem.Draw import rdMolDraw2D\n",
    "from IPython.display import SVG\n",
    "def show_compound_example(bits_names, compound_name,positive = True):\n",
    "    mol = Chem.MolFromSmiles(molecules_df.loc[compound_name]['Canonical_Smiles'])\n",
    "    bi = {}\n",
    "    fp = AllChem.GetMorganFingerprintAsBitVect(mol, 2, nBits=1024, bitInfo=bi)\n",
    "    bits = [int(b.replace('Bit_','')) for b in bits_names]\n",
    "    atomids = [bi[b][0][0] for b in bits]\n",
    "    rs = [bi[b][0][1] for b in bits]\n",
    "    hit_ats = []\n",
    "    hit_bonds = []\n",
    "    for i in range(len(bits)):\n",
    "        _, _, tmp_ats, tmp_bonds = getSubstructSmi(mol,atomids[i],rs[i])\n",
    "        for j in tmp_ats:\n",
    "            if j not in hit_ats:\n",
    "                hit_ats.append(j)\n",
    "        if tmp_bonds is not None:\n",
    "            for s in tmp_bonds:\n",
    "                if s not in hit_bonds:\n",
    "                    hit_bonds.append(s)\n",
    "\n",
    "    if positive == True:\n",
    "        colors = (0.8,0.0,0.8)\n",
    "    else:\n",
    "        colors = (0,0,0.8)\n",
    "    atom_cols = {}\n",
    "    for at in hit_ats:\n",
    "        atom_cols[at] = colors\n",
    "\n",
    "    bond_cols = {}\n",
    "    for bd in hit_bonds:\n",
    "        bond_cols[bd] = colors\n",
    "\n",
    "    d = rdMolDraw2D.MolDraw2DSVG(200, 200)\n",
    "    rdMolDraw2D.PrepareAndDrawMolecule(d, mol, highlightAtoms=hit_ats,\n",
    "                                       highlightAtomColors=atom_cols,\n",
    "                                       highlightBonds=hit_bonds,\n",
    "                                       highlightBondColors=bond_cols)\n",
    "    d.FinishDrawing()\n",
    "    svg = d.GetDrawingText().replace('svg:','')\n",
    "    return svg"
   ]
  },
  {
   "cell_type": "markdown",
   "id": "9ab67d86",
   "metadata": {},
   "source": [
    "## Module 1"
   ]
  },
  {
   "cell_type": "code",
   "execution_count": null,
   "id": "2dc11717",
   "metadata": {
    "ExecuteTime": {
     "end_time": "2021-07-14T15:25:51.249208Z",
     "start_time": "2021-07-14T15:25:51.231642Z"
    }
   },
   "outputs": [],
   "source": [
    "print('Bit_0290 in Compound OSM-S-109')\n",
    "SVG(show_compound_example(['Bit_0290'],'OSM-S-109'))"
   ]
  },
  {
   "cell_type": "code",
   "execution_count": null,
   "id": "1af88110",
   "metadata": {},
   "outputs": [],
   "source": [
    "import rdkit\n",
    "from rdkit import Chem\n",
    "Chem.MolFromSmiles('Cc1cc(/C=C2\\S/C(=N\\c3ccccc3)NC2=O)c(C)n1-c1ccc([N+](=O)[O-])cc1')"
   ]
  },
  {
   "cell_type": "code",
   "execution_count": null,
   "id": "a14cc3dd",
   "metadata": {
    "ExecuteTime": {
     "end_time": "2021-07-14T15:26:27.809098Z",
     "start_time": "2021-07-14T15:26:27.791236Z"
    }
   },
   "outputs": [],
   "source": [
    "print('Bit_0745 in Compound OSM-S-110')\n",
    "SVG(show_compound_example(['Bit_0745'],'OSM-S-110', False))"
   ]
  },
  {
   "cell_type": "code",
   "execution_count": null,
   "id": "ad3caca6",
   "metadata": {
    "ExecuteTime": {
     "end_time": "2021-07-14T15:28:17.756822Z",
     "start_time": "2021-07-14T15:28:17.741945Z"
    }
   },
   "outputs": [],
   "source": [
    "print('Bit_0350 in Compound OSM-S-106')\n",
    "SVG(show_compound_example(['Bit_0350'],'OSM-S-106', False))"
   ]
  },
  {
   "cell_type": "markdown",
   "id": "edb477c4",
   "metadata": {},
   "source": [
    "## Module 2, 3, 5"
   ]
  },
  {
   "cell_type": "code",
   "execution_count": null,
   "id": "95dade3a",
   "metadata": {
    "ExecuteTime": {
     "end_time": "2021-07-14T15:29:53.085573Z",
     "start_time": "2021-07-14T15:29:53.065595Z"
    }
   },
   "outputs": [],
   "source": [
    "print('Bit_0890 in Compound OSM-S-412')\n",
    "SVG(show_compound_example(['Bit_0890'],'OSM-S-412'))"
   ]
  },
  {
   "cell_type": "code",
   "execution_count": null,
   "id": "2bd3354c",
   "metadata": {
    "ExecuteTime": {
     "end_time": "2021-07-14T15:31:34.733424Z",
     "start_time": "2021-07-14T15:31:34.709086Z"
    }
   },
   "outputs": [],
   "source": [
    "print('Series 4 core in Compound OSM-S-189')\n",
    "SVG(show_compound_example(['Bit_0890','Bit_0711','Bit_0248','Bit_0819','Bit_0399'],'OSM-S-189'))"
   ]
  },
  {
   "cell_type": "code",
   "execution_count": null,
   "id": "d39a8471",
   "metadata": {
    "ExecuteTime": {
     "end_time": "2021-07-14T15:31:55.431806Z",
     "start_time": "2021-07-14T15:31:55.408970Z"
    }
   },
   "outputs": [],
   "source": [
    "print('Bit_0896 in Compound OSM-S-189')\n",
    "SVG(show_compound_example(['Bit_0896'],'OSM-S-189'))"
   ]
  },
  {
   "cell_type": "markdown",
   "id": "443d0be3",
   "metadata": {},
   "source": [
    "# Important Bits for Series 4"
   ]
  },
  {
   "cell_type": "markdown",
   "id": "59a0bf0f",
   "metadata": {},
   "source": [
    "## Get SMARTS from Bit"
   ]
  },
  {
   "cell_type": "code",
   "execution_count": null,
   "id": "5650a102",
   "metadata": {},
   "outputs": [],
   "source": [
    "mol,bit,bi = draw_ecfp_bit('Bit_0890', molecules_df,dataset_morgan2.X)\n",
    "atomid = bi[bit][0][0]\n",
    "r = bi[bit][0][1]\n",
    "_, sma,hit_ats,hit_bonds = getSubstructSmi(mol,atomid,r)\n",
    "sma"
   ]
  },
  {
   "cell_type": "code",
   "execution_count": null,
   "id": "7515f990",
   "metadata": {},
   "outputs": [],
   "source": [
    "from rdkit.Chem import MolFromSmarts\n",
    "from rdkit.Chem import MolToSmiles"
   ]
  },
  {
   "cell_type": "code",
   "execution_count": null,
   "id": "f9c640ea",
   "metadata": {},
   "outputs": [],
   "source": [
    "MolToSmiles(MolFromSmarts('[n;R;D3](:[c;R;D3](:[cH;R;D2])-[O;D2])(:[c;R;D3](-[c;R;D3]):[n;R;D2]):[c;R;D3](:[cH;R;D2]):[n;R;D2]'))"
   ]
  },
  {
   "cell_type": "code",
   "execution_count": null,
   "id": "2a5792f8",
   "metadata": {},
   "outputs": [],
   "source": [
    "mol,bit,bi = draw_ecfp_bit('Bit_0896', molecules_df,dataset_morgan2.X)\n",
    "atomid = bi[bit][0][0]\n",
    "r = bi[bit][0][1]\n",
    "_, sma,hit_ats,hit_bonds = getSubstructSmi(mol,atomid,r)\n",
    "sma"
   ]
  },
  {
   "cell_type": "code",
   "execution_count": null,
   "id": "0747999d",
   "metadata": {},
   "outputs": [],
   "source": [
    "MolToSmiles(MolFromSmarts('[cH;R;D2](:[cH;R;D2]:[c;R;D3]):[c;R;D3](-[c;R;D3]):[cH;R;D2]'))"
   ]
  },
  {
   "cell_type": "code",
   "execution_count": null,
   "id": "734cc4d4",
   "metadata": {},
   "outputs": [],
   "source": []
  }
 ],
 "metadata": {
  "kernelspec": {
   "display_name": "Python 3 (ipykernel)",
   "language": "python",
   "name": "python3"
  },
  "language_info": {
   "codemirror_mode": {
    "name": "ipython",
    "version": 3
   },
   "file_extension": ".py",
   "mimetype": "text/x-python",
   "name": "python",
   "nbconvert_exporter": "python",
   "pygments_lexer": "ipython3",
   "version": "3.8.16"
  },
  "latex_envs": {
   "LaTeX_envs_menu_present": true,
   "autoclose": false,
   "autocomplete": true,
   "bibliofile": "biblio.bib",
   "cite_by": "apalike",
   "current_citInitial": 1,
   "eqLabelWithNumbers": true,
   "eqNumInitial": 1,
   "hotkeys": {
    "equation": "Ctrl-E",
    "itemize": "Ctrl-I"
   },
   "labels_anchors": false,
   "latex_user_defs": false,
   "report_style_numbering": false,
   "user_envs_cfg": false
  },
  "toc": {
   "base_numbering": 1,
   "nav_menu": {},
   "number_sections": true,
   "sideBar": true,
   "skip_h1_title": false,
   "title_cell": "Table of Contents",
   "title_sidebar": "Contents",
   "toc_cell": false,
   "toc_position": {
    "height": "calc(100% - 180px)",
    "left": "10px",
    "top": "150px",
    "width": "303.818px"
   },
   "toc_section_display": true,
   "toc_window_display": true
  },
  "varInspector": {
   "cols": {
    "lenName": 16,
    "lenType": 16,
    "lenVar": 40
   },
   "kernels_config": {
    "python": {
     "delete_cmd_postfix": "",
     "delete_cmd_prefix": "del ",
     "library": "var_list.py",
     "varRefreshCmd": "print(var_dic_list())"
    },
    "r": {
     "delete_cmd_postfix": ") ",
     "delete_cmd_prefix": "rm(",
     "library": "var_list.r",
     "varRefreshCmd": "cat(var_dic_list()) "
    }
   },
   "types_to_exclude": [
    "module",
    "function",
    "builtin_function_or_method",
    "instance",
    "_Feature"
   ],
   "window_display": false
  }
 },
 "nbformat": 4,
 "nbformat_minor": 5
}
