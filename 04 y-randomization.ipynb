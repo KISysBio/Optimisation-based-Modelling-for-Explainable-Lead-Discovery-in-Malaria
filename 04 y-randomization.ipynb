{
 "cells": [
  {
   "cell_type": "code",
   "execution_count": null,
   "id": "835e6589",
   "metadata": {
    "ExecuteTime": {
     "end_time": "2021-07-14T15:42:00.528381Z",
     "start_time": "2021-07-14T15:41:57.655516Z"
    }
   },
   "outputs": [],
   "source": [
    "import math\n",
    "import scipy\n",
    "import numpy as np\n",
    "import pandas as pd\n",
    "\n",
    "# Import relevant modSAR classes \n",
    "import modSAR\n",
    "from modSAR.network_algorithms import ModSAR\n",
    "from modSAR.dataset import QSARDataset, QSARDatasetIO\n",
    "\n",
    "# plotnine is the python version of ggplot2\n",
    "from plotnine import *\n",
    "\n",
    "import warnings\n",
    "warnings.filterwarnings(\"ignore\")\n",
    "\n",
    "from rdkit import Chem\n",
    "from rdkit.Chem import AllChem, Draw\n",
    "\n",
    "from rdkit import RDLogger\n",
    "\n",
    "import rdkit.Geometry\n",
    "from rdkit.Chem import rdFMCS, PandasTools\n",
    "from rdkit.Chem.Draw import IPythonConsole \n",
    "from rdkit.Chem import PandasTools\n",
    "\n",
    "from sklearn.metrics import mean_absolute_error, r2_score, mean_squared_error\n",
    "from sklearn.model_selection import RandomizedSearchCV\n",
    "\n",
    "# 2.5uM in Log units\n",
    "CUTOFF_ACTIVITY = - np.log10(2.5e-06)\n",
    "\n",
    "s4_template = Chem.MolFromSmarts('[#6]1:[#7]:[#6]:[#6]:[#7]2:[#6]:1:[#7]:[#7]:[#6]:2')\n",
    "AllChem.Compute2DCoords(s4_template)\n",
    "\n",
    "RDLogger.DisableLog('rdApp.info')\n",
    "\n",
    "from rdkit.Chem import PandasTools\n",
    "\n",
    "%matplotlib inline"
   ]
  },
  {
   "cell_type": "markdown",
   "id": "b2aff20c",
   "metadata": {},
   "source": [
    "# Load Data"
   ]
  },
  {
   "cell_type": "code",
   "execution_count": null,
   "id": "d2f864e8",
   "metadata": {
    "ExecuteTime": {
     "end_time": "2021-07-14T15:42:21.638291Z",
     "start_time": "2021-07-14T15:42:10.443310Z"
    }
   },
   "outputs": [],
   "source": [
    "dataset_morgan2 = \\\n",
    "    QSARDatasetIO.load(dataset_name='OSM4',\n",
    "                   activity_sheetname='activity',\n",
    "                   smiles_column='Canonical_Smiles',\n",
    "                   id_column='OSM_ID',\n",
    "                   filepath='../data/osm_qsar_dataset_morgan2.xlsx',\n",
    "                   calculate_similarity=False)\n",
    "    \n",
    "\n",
    "    \n",
    "dataset_morgan2"
   ]
  },
  {
   "cell_type": "code",
   "execution_count": null,
   "id": "b144779f",
   "metadata": {
    "ExecuteTime": {
     "end_time": "2021-07-14T15:42:32.877542Z",
     "start_time": "2021-07-14T15:42:21.640809Z"
    }
   },
   "outputs": [],
   "source": [
    "dataset_morgan4 = \\\n",
    "    QSARDatasetIO.load(dataset_name='OSM4',\n",
    "                   activity_sheetname='activity',\n",
    "                   smiles_column='Canonical_Smiles',\n",
    "                   id_column='OSM_ID',\n",
    "                   filepath='../data/osm_qsar_dataset_morgan4.xlsx',\n",
    "                   calculate_similarity=False)\n",
    "    \n",
    "dataset_morgan4"
   ]
  },
  {
   "cell_type": "markdown",
   "id": "c363acbf",
   "metadata": {},
   "source": [
    "## Generate Dataset"
   ]
  },
  {
   "cell_type": "code",
   "execution_count": null,
   "id": "3b80ff29",
   "metadata": {
    "ExecuteTime": {
     "end_time": "2021-07-14T15:51:38.967239Z",
     "start_time": "2021-07-14T15:51:38.962733Z"
    }
   },
   "outputs": [],
   "source": [
    "import random\n",
    "import matplotlib.pyplot as plt\n",
    "import joblib\n",
    "from sklearn.model_selection import ShuffleSplit\n",
    "from sklearn import model_selection"
   ]
  },
  {
   "cell_type": "code",
   "execution_count": null,
   "id": "e3912f6b",
   "metadata": {
    "ExecuteTime": {
     "end_time": "2021-07-14T15:46:45.511475Z",
     "start_time": "2021-07-14T15:46:45.444027Z"
    }
   },
   "outputs": [],
   "source": [
    "# Generate ry\n",
    "ry = np.array([random.uniform(dataset_morgan2.y.values.min(),dataset_morgan2.y.values.max()) for i in range(dataset_morgan2.y.shape[0])])\n",
    "# Generate rx\n",
    "rx = np.zeros(dataset_morgan2.X.shape)\n",
    "for i in range(rx.shape[0]):\n",
    "    for j in range(rx.shape[1]):\n",
    "        rx[i][j] = random.randint(0,1)\n",
    "rx = pd.DataFrame(rx, columns = dataset_morgan2.X.columns, index = dataset_morgan2.X.index)\n",
    "ry = pd.DataFrame(ry, columns = dataset_morgan2.y.columns, index = dataset_morgan2.y.index)\n",
    "# Generate py\n",
    "py = np.random.permutation(dataset_morgan2.y.values)\n",
    "py = pd.DataFrame(py, columns = dataset_morgan2.y.columns, index = dataset_morgan2.y.index)\n",
    "joblib.dump(rx, \"/mnt/data/results/y-random/rx.joblib\")\n",
    "joblib.dump(ry, \"/mnt/data/results/y-random/ry.joblib\")\n",
    "joblib.dump(py, \"/mnt/data/results/y-random/py.joblib\")"
   ]
  },
  {
   "cell_type": "code",
   "execution_count": null,
   "id": "2ff2495a",
   "metadata": {
    "ExecuteTime": {
     "end_time": "2021-07-14T15:52:07.671577Z",
     "start_time": "2021-07-14T15:52:07.666222Z"
    }
   },
   "outputs": [],
   "source": [
    "scoring = ['neg_root_mean_squared_error',\"neg_mean_absolute_error\", \"neg_mean_squared_error\", \"r2\"]"
   ]
  }
 ],
 "metadata": {
  "kernelspec": {
   "display_name": "Python 3 (ipykernel)",
   "language": "python",
   "name": "python3"
  },
  "language_info": {
   "codemirror_mode": {
    "name": "ipython",
    "version": 3
   },
   "file_extension": ".py",
   "mimetype": "text/x-python",
   "name": "python",
   "nbconvert_exporter": "python",
   "pygments_lexer": "ipython3",
   "version": "3.8.16"
  },
  "latex_envs": {
   "LaTeX_envs_menu_present": true,
   "autoclose": false,
   "autocomplete": true,
   "bibliofile": "biblio.bib",
   "cite_by": "apalike",
   "current_citInitial": 1,
   "eqLabelWithNumbers": true,
   "eqNumInitial": 1,
   "hotkeys": {
    "equation": "Ctrl-E",
    "itemize": "Ctrl-I"
   },
   "labels_anchors": false,
   "latex_user_defs": false,
   "report_style_numbering": false,
   "user_envs_cfg": false
  },
  "toc": {
   "base_numbering": 1,
   "nav_menu": {},
   "number_sections": true,
   "sideBar": true,
   "skip_h1_title": false,
   "title_cell": "Table of Contents",
   "title_sidebar": "Contents",
   "toc_cell": false,
   "toc_position": {},
   "toc_section_display": true,
   "toc_window_display": false
  },
  "varInspector": {
   "cols": {
    "lenName": 16,
    "lenType": 16,
    "lenVar": 40
   },
   "kernels_config": {
    "python": {
     "delete_cmd_postfix": "",
     "delete_cmd_prefix": "del ",
     "library": "var_list.py",
     "varRefreshCmd": "print(var_dic_list())"
    },
    "r": {
     "delete_cmd_postfix": ") ",
     "delete_cmd_prefix": "rm(",
     "library": "var_list.r",
     "varRefreshCmd": "cat(var_dic_list()) "
    }
   },
   "types_to_exclude": [
    "module",
    "function",
    "builtin_function_or_method",
    "instance",
    "_Feature"
   ],
   "window_display": false
  }
 },
 "nbformat": 4,
 "nbformat_minor": 5
}
