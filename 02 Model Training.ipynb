{
 "cells": [
  {
   "cell_type": "code",
   "execution_count": null,
   "id": "bc4c5702",
   "metadata": {
    "ExecuteTime": {
     "end_time": "2021-07-14T13:04:23.492714Z",
     "start_time": "2021-07-14T13:04:20.005681Z"
    }
   },
   "outputs": [],
   "source": [
    "import math\n",
    "import scipy\n",
    "import numpy as np\n",
    "import pandas as pd\n",
    "\n",
    "# Import relevant modSAR classes \n",
    "import modSAR\n",
    "from modSAR.network_algorithms import ModSAR\n",
    "from modSAR.dataset import QSARDataset, QSARDatasetIO\n",
    "\n",
    "# plotnine is the python version of ggplot2\n",
    "from plotnine import *\n",
    "\n",
    "import warnings\n",
    "warnings.filterwarnings(\"ignore\")\n",
    "\n",
    "from rdkit import Chem\n",
    "from rdkit.Chem import AllChem, Draw\n",
    "\n",
    "from rdkit import RDLogger\n",
    "\n",
    "import rdkit.Geometry\n",
    "from rdkit.Chem import rdFMCS, PandasTools\n",
    "from rdkit.Chem.Draw import IPythonConsole \n",
    "from rdkit.Chem import PandasTools\n",
    "\n",
    "from sklearn.metrics import mean_absolute_error, r2_score, mean_squared_error\n",
    "from sklearn.model_selection import RandomizedSearchCV\n",
    "\n",
    "# 2.5uM in Log units\n",
    "CUTOFF_ACTIVITY = - np.log10(2.5e-06)\n",
    "\n",
    "s4_template = Chem.MolFromSmarts('[#6]1:[#7]:[#6]:[#6]:[#7]2:[#6]:1:[#7]:[#7]:[#6]:2')\n",
    "AllChem.Compute2DCoords(s4_template)\n",
    "\n",
    "RDLogger.DisableLog('rdApp.info')\n",
    "\n",
    "from rdkit.Chem import PandasTools\n",
    "\n",
    "%matplotlib inline"
   ]
  },
  {
   "cell_type": "markdown",
   "id": "407efeba",
   "metadata": {},
   "source": [
    "# Load Data"
   ]
  },
  {
   "cell_type": "code",
   "execution_count": null,
   "id": "41459f62",
   "metadata": {
    "ExecuteTime": {
     "end_time": "2021-07-14T13:04:56.851521Z",
     "start_time": "2021-07-14T13:04:45.454726Z"
    }
   },
   "outputs": [],
   "source": [
    "dataset_morgan2 = \\\n",
    "    QSARDatasetIO.load(dataset_name='OSM4',\n",
    "                   activity_sheetname='activity',\n",
    "                   smiles_column='Canonical_Smiles',\n",
    "                   id_column='OSM_ID',\n",
    "                   filepath='data/osm_qsar_dataset_morgan2.xlsx',\n",
    "                   calculate_similarity=False)\n",
    "    \n",
    "\n",
    "    \n",
    "dataset_morgan2"
   ]
  },
  {
   "cell_type": "code",
   "execution_count": null,
   "id": "88273b6c",
   "metadata": {
    "ExecuteTime": {
     "end_time": "2021-07-14T13:05:08.078485Z",
     "start_time": "2021-07-14T13:04:56.854093Z"
    }
   },
   "outputs": [],
   "source": [
    "dataset_morgan4 = \\\n",
    "    QSARDatasetIO.load(dataset_name='OSM4',\n",
    "                   activity_sheetname='activity',\n",
    "                   smiles_column='Canonical_Smiles',\n",
    "                   id_column='OSM_ID',\n",
    "                   filepath='../data/osm_qsar_dataset_morgan4.xlsx',\n",
    "                   calculate_similarity=False)\n",
    "    \n",
    "dataset_morgan4"
   ]
  },
  {
   "cell_type": "markdown",
   "id": "b9aa5fba",
   "metadata": {},
   "source": [
    "# Train ModSAR algorithm\n",
    "\n",
    "ModSAR algorithm models regression algorithms in two stages:\n",
    "\n",
    "1. Training data is represented as a **network** and divided into clusters by optimising the [modularity metric](https://python-louvain.readthedocs.io/en/latest/).\n",
    "2. Each of this clusters (also called modules) are then modelled by the [OplraReg](https://onlinelibrary.wiley.com/doi/10.1002/minf.201800028) algorithm, a [segmented (or piecewise) regression model](https://www.theanalysisfactor.com/segmented-regression-for-non-constant-relationships/) with a regularisation penalty to select most relevant features and reduce overfitting.\n",
    "\n",
    "\n",
    "ModSAR inherits a couple of parameters from OplraReg but in practice, we only need to tune $\\lambda$ to define how big the effect of regularisation will be in the final piecewise linear equations. A higher $\\lambda$ will lead to fewer features in the piecewise linear models and it will run quecker but if $\\lambda$ is set too high, the model will have a huge bias and usually \"underfit\" the data. [Bias-variance tradeoff](https://towardsdatascience.com/understanding-the-bias-variance-tradeoff-165e6942b229)."
   ]
  },
  {
   "cell_type": "markdown",
   "id": "553c6bb7",
   "metadata": {},
   "source": [
    "## Training with different $\\lambda$\n",
    "\n",
    "In this section, we will perform a cross-validation while searching for an optimum $\\lambda$ parameter of modSAR.\n",
    "\n",
    "\n",
    "Based on previous knowledge, we know this parameter to be optimally placed around $\\lambda \\approx 0.005$ - no fewer than that - so I will be sampling this parameter from a random HalfNormal distribution, i.e. $\\lambda \\sim \\text{HalfNormal}(\\mu=0.005, \\sigma=0.05)$.\n",
    "\n",
    "Randomized Search and Cross-Validation is performed with scikit-learn's [RandomizedSearchCV](https://scikit-learn.org/stable/modules/grid_search.html#randomized-parameter-search):"
   ]
  },
  {
   "cell_type": "code",
   "execution_count": null,
   "id": "69a5dd14",
   "metadata": {
    "ExecuteTime": {
     "end_time": "2021-07-14T13:05:22.031841Z",
     "start_time": "2021-07-14T13:05:22.017386Z"
    }
   },
   "outputs": [],
   "source": [
    "from copy import deepcopy\n",
    "from sklearn.model_selection import GridSearchCV\n",
    "\n",
    "modsar_alg = ModSAR(lam=0.02, metadata=dataset_morgan4.metadata, solver_name = 'glpk')\n",
    "\n",
    "scoring = ['neg_root_mean_squared_error',\"neg_mean_absolute_error\", \"neg_mean_squared_error\", \"r2\"]\n",
    "param_distributions = {\"lam\": scipy.stats.halfnorm(0.005, 0.05)}\n",
    "\n",
    "param_grid = {\"lam\": [i/100 for i in range(1, 20)]}\n",
    "\n",
    "\n",
    "model_morgan2 = GridSearchCV(deepcopy(modsar_alg), \n",
    "                             return_train_score=True,\n",
    "                             param_grid=param_grid, \n",
    "                             scoring=scoring, \n",
    "                             refit=\"neg_mean_squared_error\",\n",
    "                             cv=5,\n",
    "                             n_jobs=5,\n",
    "                             verbose=3)\n",
    "\n",
    "model_morgan4 = GridSearchCV(deepcopy(modsar_alg), \n",
    "                             return_train_score=True,\n",
    "                             param_grid=param_grid, \n",
    "                             scoring=scoring, \n",
    "                             refit=\"neg_mean_squared_error\",\n",
    "                             cv=5,\n",
    "                             n_jobs=5,\n",
    "                             verbose=3)"
   ]
  },
  {
   "cell_type": "code",
   "execution_count": null,
   "id": "fd815349",
   "metadata": {},
   "outputs": [],
   "source": [
    "model_morgan2.fit(dataset_morgan2.X, dataset_morgan2.y)"
   ]
  },
  {
   "cell_type": "code",
   "execution_count": null,
   "id": "42600330",
   "metadata": {},
   "outputs": [],
   "source": [
    "# Save model to disk\n",
    "import joblib\n",
    "joblib.dump(model_morgan2, \"data/results/model_modsar_morgan2_r2.joblib\")\n",
    "# results_df.to_csv(\"../data/model_modsar_morgan2_results.csv\")"
   ]
  }
 ],
 "metadata": {
  "kernelspec": {
   "display_name": "Python 3 (ipykernel)",
   "language": "python",
   "name": "python3"
  },
  "language_info": {
   "codemirror_mode": {
    "name": "ipython",
    "version": 3
   },
   "file_extension": ".py",
   "mimetype": "text/x-python",
   "name": "python",
   "nbconvert_exporter": "python",
   "pygments_lexer": "ipython3",
   "version": "3.8.16"
  },
  "latex_envs": {
   "LaTeX_envs_menu_present": true,
   "autoclose": false,
   "autocomplete": true,
   "bibliofile": "biblio.bib",
   "cite_by": "apalike",
   "current_citInitial": 1,
   "eqLabelWithNumbers": true,
   "eqNumInitial": 1,
   "hotkeys": {
    "equation": "Ctrl-E",
    "itemize": "Ctrl-I"
   },
   "labels_anchors": false,
   "latex_user_defs": false,
   "report_style_numbering": false,
   "user_envs_cfg": false
  },
  "toc": {
   "base_numbering": 1,
   "nav_menu": {},
   "number_sections": true,
   "sideBar": true,
   "skip_h1_title": false,
   "title_cell": "Table of Contents",
   "title_sidebar": "Contents",
   "toc_cell": false,
   "toc_position": {},
   "toc_section_display": true,
   "toc_window_display": false
  },
  "varInspector": {
   "cols": {
    "lenName": 16,
    "lenType": 16,
    "lenVar": 40
   },
   "kernels_config": {
    "python": {
     "delete_cmd_postfix": "",
     "delete_cmd_prefix": "del ",
     "library": "var_list.py",
     "varRefreshCmd": "print(var_dic_list())"
    },
    "r": {
     "delete_cmd_postfix": ") ",
     "delete_cmd_prefix": "rm(",
     "library": "var_list.r",
     "varRefreshCmd": "cat(var_dic_list()) "
    }
   },
   "types_to_exclude": [
    "module",
    "function",
    "builtin_function_or_method",
    "instance",
    "_Feature"
   ],
   "window_display": false
  }
 },
 "nbformat": 4,
 "nbformat_minor": 5
}
