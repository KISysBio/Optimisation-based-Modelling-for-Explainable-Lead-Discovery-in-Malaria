{
 "cells": [
  {
   "cell_type": "markdown",
   "metadata": {},
   "source": [
    "**OBJECTIVE:** Prepare OSM S4 dataset for modelling with modSAR algorithm"
   ]
  },
  {
   "cell_type": "code",
   "execution_count": null,
   "metadata": {
    "ExecuteTime": {
     "end_time": "2021-04-13T18:30:31.381397Z",
     "start_time": "2021-04-13T18:30:30.006313Z"
    }
   },
   "outputs": [],
   "source": [
    "import math\n",
    "import numpy as np\n",
    "import pandas as pd\n",
    "\n",
    "# Import relevant modSAR classes \n",
    "from modSAR.network_algorithms import ModSAR\n",
    "from modSAR.cdk_utils import CDKUtils\n",
    "from modSAR.preprocessing import *\n",
    "from modSAR.dataset import QSARDataset, QSARDatasetIO\n",
    "\n",
    "from rdkit import Chem\n",
    "from rdkit.Chem import AllChem\n",
    "import rdkit.Geometry\n",
    "from rdkit.Chem import rdFMCS\n",
    "from rdkit.Chem.Draw import IPythonConsole \n",
    "\n",
    "import warnings\n",
    "warnings.filterwarnings(\"ignore\")\n",
    "\n",
    "# 2.5uM in Log units\n",
    "CUTOFF_ACTIVITY = - np.log10(2.5e-06)\n",
    "\n",
    "%matplotlib inline"
   ]
  },
  {
   "cell_type": "markdown",
   "metadata": {},
   "source": [
    "# Load annotated dataset\n",
    "\n",
    "A filtered and annotated training set was compiled from raw OSM data by wvanhoorn and saved in the file **Master Chemical List - annotated.xlsx**.\n",
    "\n",
    "An account of the steps taken to generate this file are described in [this Github issue comment](https://github.com/OpenSourceMalaria/Series4_PredictiveModel/issues/1#issuecomment-523037719) and listed below: \n",
    "\n",
    "\n",
    "\n",
    "    1. The columns 'PfaI EC50 uMol (Mean) Qualifier' and 'PfaI EC50 uMol (Mean)' were removed.\n",
    "\n",
    "    2. Rows without Smiles were removed as well as rows without Pfal data. The latter means that at least oneof the remaining columns starting with 'Pfal' had to contain a value.\n",
    "    \n",
    "    3. The molecular structures were normalised: salts stripped, canonical tautomer calculated, charges normalised, etc.\n",
    "    \n",
    "    4. Rows were merged by (recalculated) InChiKey.\n",
    "    \n",
    "    5. Activity data was pivoted into columns 'Assay', 'Value' and 'Qualifier'. Activity values that were not IC50 like '100\\% at 40 micromolar' were removed as well as values that did make sense like '0'. The original Pfal columns were left in place so that it can be seen where each data point comes from. The file was split on the three new columns so that 1 row = 1 value. During this process all other columns were copied so there is redundancy. I leave it to each individual if and how they want to average multiple values for a single compound.\n",
    "\n",
    "    6. Series annotation was done again since not all compounds claimed to be from series 4 contained the 'triazolopyrazine core with substitutents in the northwest and northeast positions' mentioned before. When the original series annotation was '4' but the compound contains another core (or does not have two substituents in the right position) the Series annotation is overwritten as 'not4'. Note that all series are still there, leaving it open whether or not to include data from other series."
   ]
  },
  {
   "cell_type": "markdown",
   "metadata": {},
   "source": [
    "Place the file under `data/Master Chemical List - annotated.xlsx`. Create the folder `data` in the parent directory if it does not exist yet."
   ]
  },
  {
   "cell_type": "code",
   "execution_count": null,
   "metadata": {
    "ExecuteTime": {
     "end_time": "2021-04-13T18:30:31.450447Z",
     "start_time": "2021-04-13T18:30:31.446571Z"
    }
   },
   "outputs": [],
   "source": [
    "import os\n",
    "if not os.path.exists('data'):\n",
    "    os.makedirs('data')"
   ]
  },
  {
   "cell_type": "code",
   "execution_count": null,
   "metadata": {
    "ExecuteTime": {
     "end_time": "2021-04-13T18:30:32.826737Z",
     "start_time": "2021-04-13T18:30:32.255498Z"
    }
   },
   "outputs": [],
   "source": [
    "X = pd.read_excel('data/Master Chemical List - new.xlsx')\n",
    "\n",
    "# Compound OSM-S-424 cannot be parsed by RDKit so we remove it from our dataset\n",
    "X = X[X[\"OSM_ID\"] != 'OSM-S-424'].copy()\n",
    "\n",
    "# Activity data is represented by the column `Value` (in uM). Calculate pIC50 from this column:\n",
    "X['pIC50'] = -np.log10(X['Value']* 1e-06)\n",
    "\n",
    "# Save this preprocessed dataset to the ./data folder\n",
    "X.to_excel('../data/osm_raw_dataset_2019_08_20.xlsx', index = False)"
   ]
  },
  {
   "cell_type": "code",
   "execution_count": null,
   "metadata": {
    "ExecuteTime": {
     "end_time": "2021-04-13T18:30:33.300690Z",
     "start_time": "2021-04-13T18:30:33.241027Z"
    }
   },
   "outputs": [],
   "source": [
    "X.head(3)"
   ]
  },
  {
   "cell_type": "markdown",
   "metadata": {},
   "source": [
    "# Parse data with modSAR package\n",
    "\n",
    "modSAR python package has a module `datasource.py` with a few built-in classes to automatically handle QSAR datasets:\n",
    "   - ChEMBLApiDataSource: Downloads data from ChEMBL\n",
    "   - ChEMBLFileDataSource: Read bioactivities that have been downloaded from ChEMBL\n",
    "   - GenericFileDataSource: Read activity data from a file data source\n",
    "\n",
    "  \n",
    "For the OSM dataset, we will use the `GenericFileDataSource` to read the xlsx file we created above so it is easier to manipulate later on:"
   ]
  },
  {
   "cell_type": "code",
   "execution_count": null,
   "metadata": {
    "ExecuteTime": {
     "end_time": "2021-04-13T18:30:34.536227Z",
     "start_time": "2021-04-13T18:30:34.287379Z"
    }
   },
   "outputs": [],
   "source": [
    "from modSAR.datasource import GenericFileDataSource\n",
    "\n",
    "# Read the bioactivities in a more standard way with modSAR package\n",
    "\n",
    "osm_dataset = GenericFileDataSource(target_id='malaria_osm4', \n",
    "                                    filepath='data/osm_raw_dataset_2019_08_20.xlsx', \n",
    "                                    smiles_column='Canonical_Smiles', \n",
    "                                    compound_id_column='OSM_ID', \n",
    "                                    activity_column='pIC50',\n",
    "                                    apply_filter=False)"
   ]
  },
  {
   "cell_type": "code",
   "execution_count": null,
   "metadata": {
    "ExecuteTime": {
     "end_time": "2021-04-13T18:30:34.559296Z",
     "start_time": "2021-04-13T18:30:34.552389Z"
    }
   },
   "outputs": [],
   "source": [
    "print(\"Number of compounds: %d | Number of unique compounds: %d\" %\n",
    "      (osm_dataset.bioactivities_df.shape[0], osm_dataset.bioactivities_df['OSM_ID'].nunique()))"
   ]
  },
  {
   "cell_type": "code",
   "execution_count": null,
   "metadata": {
    "ExecuteTime": {
     "end_time": "2021-04-13T18:30:34.830703Z",
     "start_time": "2021-04-13T18:30:34.772546Z"
    },
    "scrolled": true
   },
   "outputs": [],
   "source": [
    "# Have a look at the dataframe\n",
    "osm_dataset.bioactivities_df.head(3)"
   ]
  },
  {
   "cell_type": "code",
   "execution_count": null,
   "metadata": {
    "ExecuteTime": {
     "end_time": "2021-04-13T18:30:35.218872Z",
     "start_time": "2021-04-13T18:30:35.018697Z"
    }
   },
   "outputs": [],
   "source": [
    "# Quick look into the distribution of pIC50 activity\n",
    "osm_dataset.bioactivities_df['pIC50'].hist()"
   ]
  },
  {
   "cell_type": "markdown",
   "metadata": {},
   "source": [
    "# Creating QSARDatasets\n",
    "\n",
    "The modSAR package contains code to calculate molecular descriptors, which will generate a python object - a `QSARDataset` - that can be more easily manipulated than loose DataFrames or loose CSV files.\n",
    "\n",
    "To build a dataset, we use `data_obj.build_qsar_dataset` method either one of two options:\n",
    "\n",
    "1. `type=\"cdk\"`: to calculate 200+ molecular descriptors with the CDK library v2 as features to the model\n",
    "2. `type=\"morgan<n>\"`: to calculate Morgan fingerprints with radius `n`. This will produce 1024 bits.\n",
    "\n",
    "\n",
    "The method **build_qsar_dataset** method also performs a couple of preprocessing steps:\n",
    "  1. Treats duplicated values: Duplicated compounds are discarded if standard deviation of the group is $sd(pIC_{50}) > 1$. Otherwise, the median value of activity is used. \n",
    "  2. Calculates Molecular Descriptors: Using CDK library (Java) or ECFP4 fingerprints with RDKit\n",
    "  3. Returns a QSARDataset: a python object that encapsulates a full dataset"
   ]
  },
  {
   "cell_type": "markdown",
   "metadata": {},
   "source": [
    "## Features = Morgan fingerprints\n",
    "\n",
    "### radius = 2 \n",
    "\n",
    "Calculate circular Morgan fingerprints with radius=2 with RDkit to use as features to the Machine Learning model.\n",
    "\n",
    "These fingerprints roughly correspond to the classic ECFP4 fingerprints."
   ]
  },
  {
   "cell_type": "code",
   "execution_count": null,
   "metadata": {
    "ExecuteTime": {
     "end_time": "2021-04-13T18:31:24.717916Z",
     "start_time": "2021-04-13T18:30:37.389938Z"
    }
   },
   "outputs": [],
   "source": [
    "osm_morgan2_dataset = osm_dataset.build_qsar_dataset(type=\"morgan2\", calculate_similarity=False)"
   ]
  },
  {
   "cell_type": "markdown",
   "metadata": {
    "ExecuteTime": {
     "end_time": "2020-10-06T11:43:38.121070Z",
     "start_time": "2020-10-06T11:43:38.115125Z"
    }
   },
   "source": [
    "**Save Dataset**\n",
    "\n",
    "Save it in .xlsx so it could be inspected in other softwares as well (e.g.: Excel)"
   ]
  },
  {
   "cell_type": "code",
   "execution_count": null,
   "metadata": {
    "ExecuteTime": {
     "end_time": "2021-04-13T18:31:38.495105Z",
     "start_time": "2021-04-13T18:31:24.720091Z"
    }
   },
   "outputs": [],
   "source": [
    "QSARDatasetIO.write(osm_morgan2_dataset, filepath='../data/osm_qsar_dataset_morgan2.xlsx')"
   ]
  },
  {
   "cell_type": "markdown",
   "metadata": {},
   "source": [
    "### radius = 4\n",
    "\n",
    "By increasing the radius, we let the fingerprint represent longer chains which **might** be desirable in a ML model."
   ]
  },
  {
   "cell_type": "code",
   "execution_count": null,
   "metadata": {
    "ExecuteTime": {
     "end_time": "2021-04-13T18:32:26.401679Z",
     "start_time": "2021-04-13T18:31:38.503241Z"
    }
   },
   "outputs": [],
   "source": [
    "osm_morgan4_dataset = osm_dataset.build_qsar_dataset(type=\"morgan4\", calculate_similarity=False)"
   ]
  },
  {
   "cell_type": "markdown",
   "metadata": {
    "ExecuteTime": {
     "end_time": "2020-10-06T11:43:38.121070Z",
     "start_time": "2020-10-06T11:43:38.115125Z"
    }
   },
   "source": [
    "**Save Dataset**"
   ]
  },
  {
   "cell_type": "code",
   "execution_count": null,
   "metadata": {
    "ExecuteTime": {
     "end_time": "2021-04-13T18:32:40.319365Z",
     "start_time": "2021-04-13T18:32:26.403695Z"
    }
   },
   "outputs": [],
   "source": [
    "QSARDatasetIO.write(osm_morgan2_dataset, filepath='../data/osm_qsar_dataset_morgan4.xlsx')"
   ]
  },
  {
   "cell_type": "markdown",
   "metadata": {},
   "source": [
    "# End\n",
    "\n",
    "That's it. This is how you generate and save features in a format that is easier to use with modSAR in the next notebooks."
   ]
  }
 ],
 "metadata": {
  "kernelspec": {
   "display_name": "Python 3 (ipykernel)",
   "language": "python",
   "name": "python3"
  },
  "language_info": {
   "codemirror_mode": {
    "name": "ipython",
    "version": 3
   },
   "file_extension": ".py",
   "mimetype": "text/x-python",
   "name": "python",
   "nbconvert_exporter": "python",
   "pygments_lexer": "ipython3",
   "version": "3.8.16"
  },
  "latex_envs": {
   "LaTeX_envs_menu_present": true,
   "autoclose": false,
   "autocomplete": true,
   "bibliofile": "biblio.bib",
   "cite_by": "apalike",
   "current_citInitial": 1,
   "eqLabelWithNumbers": true,
   "eqNumInitial": 1,
   "hotkeys": {
    "equation": "Ctrl-E",
    "itemize": "Ctrl-I"
   },
   "labels_anchors": false,
   "latex_user_defs": false,
   "report_style_numbering": false,
   "user_envs_cfg": false
  },
  "toc": {
   "base_numbering": 1,
   "nav_menu": {},
   "number_sections": true,
   "sideBar": true,
   "skip_h1_title": false,
   "title_cell": "Table of Contents",
   "title_sidebar": "Contents",
   "toc_cell": false,
   "toc_position": {
    "height": "calc(100% - 180px)",
    "left": "10px",
    "top": "150px",
    "width": "165px"
   },
   "toc_section_display": true,
   "toc_window_display": true
  },
  "varInspector": {
   "cols": {
    "lenName": 16,
    "lenType": 16,
    "lenVar": 40
   },
   "kernels_config": {
    "python": {
     "delete_cmd_postfix": "",
     "delete_cmd_prefix": "del ",
     "library": "var_list.py",
     "varRefreshCmd": "print(var_dic_list())"
    },
    "r": {
     "delete_cmd_postfix": ") ",
     "delete_cmd_prefix": "rm(",
     "library": "var_list.r",
     "varRefreshCmd": "cat(var_dic_list()) "
    }
   },
   "types_to_exclude": [
    "module",
    "function",
    "builtin_function_or_method",
    "instance",
    "_Feature"
   ],
   "window_display": false
  }
 },
 "nbformat": 4,
 "nbformat_minor": 2
}
